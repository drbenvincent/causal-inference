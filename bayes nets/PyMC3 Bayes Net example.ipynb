{
 "cells": [
  {
   "cell_type": "markdown",
   "metadata": {},
   "source": [
    "# PyMC3 example\n",
    "\n",
    "PyMC3 implimentation provided by Junpeng Lao, see https://discourse.pymc.io/t/bayes-nets-belief-networks-and-pymc/5150/2?u=drbenvincent\n"
   ]
  },
  {
   "cell_type": "code",
   "execution_count": 1,
   "metadata": {},
   "outputs": [],
   "source": [
    "import pymc3 as pm\n",
    "import numpy as np\n",
    "\n",
    "import theano\n",
    "import theano.tensor as tt"
   ]
  },
  {
   "cell_type": "code",
   "execution_count": 2,
   "metadata": {},
   "outputs": [],
   "source": [
    "lookup_table = theano.shared(np.asarray([\n",
    "    [[.99, .01], [.1, .9]],\n",
    "    [[.9, .1], [.1, .9]]]))\n",
    "\n",
    "def f(smoker, covid):\n",
    "    return lookup_table[smoker, covid]\n",
    "\n",
    "with pm.Model() as m:\n",
    "    smoker = pm.Categorical('smoker', [.75, .25])\n",
    "    covid = pm.Categorical('covid', [.9, .1])\n",
    "    hospital = pm.Categorical('hospital', f(smoker, covid))\n",
    "    prior_trace = pm.sample_prior_predictive(100000)"
   ]
  },
  {
   "cell_type": "code",
   "execution_count": 3,
   "metadata": {},
   "outputs": [
    {
     "name": "stdout",
     "output_type": "stream",
     "text": [
      "P(covid|¬smoking, hospital) is 0.9036904925229798\n",
      "P(covid|smoking, hospital) is 0.494931687968268\n"
     ]
    }
   ],
   "source": [
    "predict_proba0 = prior_trace['covid'][\n",
    "    (prior_trace['smoker'] == 0)\n",
    "  & (prior_trace['hospital'] == 1)].mean()\n",
    "\n",
    "predict_proba1 = prior_trace['covid'][\n",
    "    (prior_trace['smoker'] == 1)\n",
    "  & (prior_trace['hospital'] == 1)].mean()\n",
    "\n",
    "print(f'P(covid|¬smoking, hospital) is {predict_proba0}')\n",
    "print(f'P(covid|smoking, hospital) is {predict_proba1}')"
   ]
  },
  {
   "cell_type": "code",
   "execution_count": null,
   "metadata": {},
   "outputs": [],
   "source": []
  },
  {
   "cell_type": "code",
   "execution_count": 4,
   "metadata": {},
   "outputs": [
    {
     "data": {
      "text/plain": [
       "array([0.99, 0.01])"
      ]
     },
     "execution_count": 4,
     "metadata": {},
     "output_type": "execute_result"
    }
   ],
   "source": [
    "lookup_table[0,0].eval()"
   ]
  },
  {
   "cell_type": "code",
   "execution_count": 5,
   "metadata": {},
   "outputs": [
    {
     "data": {
      "text/plain": [
       "array([0.1, 0.9])"
      ]
     },
     "execution_count": 5,
     "metadata": {},
     "output_type": "execute_result"
    }
   ],
   "source": [
    "lookup_table[0,1].eval()"
   ]
  },
  {
   "cell_type": "code",
   "execution_count": 6,
   "metadata": {},
   "outputs": [
    {
     "data": {
      "text/plain": [
       "array([0.9, 0.1])"
      ]
     },
     "execution_count": 6,
     "metadata": {},
     "output_type": "execute_result"
    }
   ],
   "source": [
    "lookup_table[1,0].eval()"
   ]
  },
  {
   "cell_type": "code",
   "execution_count": 7,
   "metadata": {},
   "outputs": [
    {
     "data": {
      "text/plain": [
       "array([0.1, 0.9])"
      ]
     },
     "execution_count": 7,
     "metadata": {},
     "output_type": "execute_result"
    }
   ],
   "source": [
    "lookup_table[1,1].eval()"
   ]
  },
  {
   "cell_type": "code",
   "execution_count": null,
   "metadata": {},
   "outputs": [],
   "source": []
  },
  {
   "cell_type": "code",
   "execution_count": null,
   "metadata": {},
   "outputs": [],
   "source": []
  }
 ],
 "metadata": {
  "kernelspec": {
   "display_name": "Python 3",
   "language": "python",
   "name": "python3"
  },
  "language_info": {
   "codemirror_mode": {
    "name": "ipython",
    "version": 3
   },
   "file_extension": ".py",
   "mimetype": "text/x-python",
   "name": "python",
   "nbconvert_exporter": "python",
   "pygments_lexer": "ipython3",
   "version": "3.7.4"
  }
 },
 "nbformat": 4,
 "nbformat_minor": 4
}
