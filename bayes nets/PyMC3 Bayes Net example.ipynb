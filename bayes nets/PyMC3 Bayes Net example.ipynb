{
 "cells": [
  {
   "cell_type": "markdown",
   "metadata": {},
   "source": [
    "# PyMC3 example"
   ]
  },
  {
   "cell_type": "code",
   "execution_count": 1,
   "metadata": {},
   "outputs": [],
   "source": [
    "import pymc3 as pm\n",
    "import numpy as np\n",
    "\n",
    "import theano\n",
    "import theano.tensor as tt"
   ]
  },
  {
   "cell_type": "markdown",
   "metadata": {},
   "source": [
    "Utility function(s)"
   ]
  },
  {
   "cell_type": "code",
   "execution_count": 2,
   "metadata": {},
   "outputs": [],
   "source": [
    "def marginal_distributions(trace, names):\n",
    "    \"\"\"Samples from the prior.\n",
    "    trace = samples from prior\n",
    "    names = list of strings of node names\n",
    "    \"\"\"\n",
    "    for name in names:\n",
    "        print(f\"P({name}) = {trace[name].mean()}\")"
   ]
  },
  {
   "cell_type": "code",
   "execution_count": 3,
   "metadata": {},
   "outputs": [],
   "source": [
    "def conditional_probabilities(trace, names, evidence):\n",
    "    \"\"\"Output the probabilities of all the variables, conditioned on the evidence.\n",
    "    trace = samples from prior\n",
    "    names = list of strings of node names\n",
    "    evidence = {'norman_late': 1, 'martin_late': 1} (for example)\n",
    "    \"\"\"\n",
    "    \n",
    "    n_samples = len(list(trace.values())[0])\n",
    "    \n",
    "    for name in names:\n",
    "\n",
    "        # Calculate Boolean subset of samples confiorming to the evidence\n",
    "        subset = np.full(n_samples, True, dtype=bool)\n",
    "        for key, val in evidence.items():\n",
    "            subset = (subset) & (trace[key] == val)\n",
    "\n",
    "        # Calculate mean of variable of interest consistent with the evidence\n",
    "        prob = trace[name][subset == 1].mean()\n",
    "\n",
    "        # Compose string\n",
    "        string = f\"P({name} | \"\n",
    "        for key, value in evidence.items():\n",
    "            string += key + f\" = {value}\"\n",
    "            string += \", \"\n",
    "        string += f\") = {prob*100:.2f}%\"\n",
    "        \n",
    "        print(string)"
   ]
  },
  {
   "cell_type": "markdown",
   "metadata": {},
   "source": [
    "## Example: smoking / covid\n",
    "PyMC3 implimentation provided by Junpeng Lao, see https://discourse.pymc.io/t/bayes-nets-belief-networks-and-pymc/5150/2?u=drbenvincent. The 'trick' here seems to be to generate a PyMC3 model with no observed data, sample from the prior, then look up the probability of interest conditional upon nodes taking on certain values."
   ]
  },
  {
   "cell_type": "code",
   "execution_count": 4,
   "metadata": {},
   "outputs": [],
   "source": [
    "lookup_table = theano.shared(np.asarray([\n",
    "    [[.99, .01], [.1, .9]],\n",
    "    [[.9, .1], [.1, .9]]]))\n",
    "\n",
    "def f(smoker, covid):\n",
    "    return lookup_table[smoker, covid]\n",
    "\n",
    "names = [\"smoker\", \"covid\", \"hospital\"]\n",
    "\n",
    "with pm.Model() as m:\n",
    "    smoker = pm.Categorical('smoker', [.75, .25])\n",
    "    covid = pm.Categorical('covid', [.9, .1])\n",
    "    hospital = pm.Categorical('hospital', f(smoker, covid))\n",
    "    prior = pm.sample_prior_predictive(100000)"
   ]
  },
  {
   "cell_type": "code",
   "execution_count": 9,
   "metadata": {},
   "outputs": [
    {
     "name": "stdout",
     "output_type": "stream",
     "text": [
      "P(smoker) = 0.24872\n",
      "P(covid) = 0.0984\n",
      "P(hospital) = 0.1187\n"
     ]
    }
   ],
   "source": [
    "marginal_distributions(prior, [\"smoker\", \"covid\", \"hospital\"])"
   ]
  },
  {
   "cell_type": "code",
   "execution_count": 11,
   "metadata": {},
   "outputs": [
    {
     "name": "stdout",
     "output_type": "stream",
     "text": [
      "P(smoker | hospital = 1, covid = 1, ) = 24.82%\n"
     ]
    }
   ],
   "source": [
    "conditional_probabilities(prior, [\"smoker\"], {'hospital': 1, 'covid': 1})"
   ]
  },
  {
   "cell_type": "code",
   "execution_count": 12,
   "metadata": {},
   "outputs": [
    {
     "name": "stdout",
     "output_type": "stream",
     "text": [
      "P(covid | hospital = 1, smoker = 0, ) = 90.78%\n"
     ]
    }
   ],
   "source": [
    "conditional_probabilities(prior, [\"covid\"], {'hospital': 1, 'smoker': 0})"
   ]
  },
  {
   "cell_type": "code",
   "execution_count": 13,
   "metadata": {},
   "outputs": [
    {
     "name": "stdout",
     "output_type": "stream",
     "text": [
      "P(covid | hospital = 1, smoker = 1, ) = 48.92%\n"
     ]
    }
   ],
   "source": [
    "conditional_probabilities(prior, [\"covid\"], {'hospital': 1, 'smoker': 1})"
   ]
  },
  {
   "cell_type": "code",
   "execution_count": null,
   "metadata": {},
   "outputs": [],
   "source": []
  },
  {
   "cell_type": "code",
   "execution_count": null,
   "metadata": {},
   "outputs": [],
   "source": []
  },
  {
   "cell_type": "code",
   "execution_count": null,
   "metadata": {},
   "outputs": [],
   "source": []
  },
  {
   "cell_type": "markdown",
   "metadata": {},
   "source": [
    "    predict_proba0 = prior['covid'][\n",
    "        (prior['smoker'] == 0)\n",
    "      & (prior['hospital'] == 1)].mean()\n",
    "\n",
    "    predict_proba1 = prior['covid'][\n",
    "        (prior['smoker'] == 1)\n",
    "      & (prior['hospital'] == 1)].mean()\n",
    "\n",
    "    print(f'P(covid|¬smoking, hospital) is {predict_proba0}')\n",
    "    print(f'P(covid|smoking, hospital) is {predict_proba1}')"
   ]
  },
  {
   "cell_type": "code",
   "execution_count": null,
   "metadata": {},
   "outputs": [],
   "source": []
  },
  {
   "cell_type": "code",
   "execution_count": 14,
   "metadata": {},
   "outputs": [
    {
     "data": {
      "text/plain": [
       "array([0.99, 0.01])"
      ]
     },
     "execution_count": 14,
     "metadata": {},
     "output_type": "execute_result"
    }
   ],
   "source": [
    "lookup_table[0,0].eval()"
   ]
  },
  {
   "cell_type": "code",
   "execution_count": 15,
   "metadata": {},
   "outputs": [
    {
     "data": {
      "text/plain": [
       "array([0.1, 0.9])"
      ]
     },
     "execution_count": 15,
     "metadata": {},
     "output_type": "execute_result"
    }
   ],
   "source": [
    "lookup_table[0,1].eval()"
   ]
  },
  {
   "cell_type": "code",
   "execution_count": 16,
   "metadata": {},
   "outputs": [
    {
     "data": {
      "text/plain": [
       "array([0.9, 0.1])"
      ]
     },
     "execution_count": 16,
     "metadata": {},
     "output_type": "execute_result"
    }
   ],
   "source": [
    "lookup_table[1,0].eval()"
   ]
  },
  {
   "cell_type": "code",
   "execution_count": 17,
   "metadata": {},
   "outputs": [
    {
     "data": {
      "text/plain": [
       "array([0.1, 0.9])"
      ]
     },
     "execution_count": 17,
     "metadata": {},
     "output_type": "execute_result"
    }
   ],
   "source": [
    "lookup_table[1,1].eval()"
   ]
  },
  {
   "cell_type": "code",
   "execution_count": null,
   "metadata": {},
   "outputs": [],
   "source": []
  },
  {
   "cell_type": "markdown",
   "metadata": {},
   "source": [
    "## Example 7.3 \n",
    "From Risk Assessment and Decision Analysis with Bayesian Networks, by Fenton & Neil"
   ]
  },
  {
   "cell_type": "code",
   "execution_count": 18,
   "metadata": {},
   "outputs": [],
   "source": [
    "# P(martin_late|train_strike, martin_oversleeps) -------------------------\n",
    "\n",
    "martin_late_lookup = theano.shared(np.asarray([\n",
    "    [[.7, .3], [.4, .6]],\n",
    "    [[.4, .6], [.2, .8]]]))\n",
    "\n",
    "def p_martin_late(train_strike, martin_oversleeps):\n",
    "    return martin_late_lookup[train_strike, martin_oversleeps]\n",
    "\n",
    "# P(norman_late|train_strike) --------------------------------------------\n",
    "p_norman_late_lookup = theano.shared(np.asarray([[0.9, .1], [.2, .8]]))\n",
    "\n",
    "def p_norman_late(train_strike):\n",
    "    return p_norman_late_lookup[train_strike]\n",
    "\n",
    "# Build model ------------------------------------------------------------\n",
    "with pm.Model() as m:\n",
    "    martin_oversleeps = pm.Categorical('martin_oversleeps', [.6, .4])\n",
    "    train_strike = pm.Categorical('train_strike', [.9, .1])\n",
    "    norman_late = pm.Categorical('norman_late', \n",
    "                                 p_norman_late(train_strike))\n",
    "    martin_late = pm.Categorical('martin_late', \n",
    "                                 p_martin_late(train_strike, martin_oversleeps))\n",
    "    prior = pm.sample_prior_predictive(100_000)"
   ]
  },
  {
   "cell_type": "code",
   "execution_count": 19,
   "metadata": {},
   "outputs": [],
   "source": [
    "names = ['martin_oversleeps', 'train_strike', 'martin_late', 'norman_late']"
   ]
  },
  {
   "cell_type": "code",
   "execution_count": 20,
   "metadata": {},
   "outputs": [],
   "source": [
    "# # Marginal distributions\n",
    "# for name in names:\n",
    "#     print(f\"P({name}) = {prior[name].mean()}\")"
   ]
  },
  {
   "cell_type": "code",
   "execution_count": 21,
   "metadata": {},
   "outputs": [
    {
     "name": "stdout",
     "output_type": "stream",
     "text": [
      "P(martin_oversleeps | norman_late = 0, ) = 39.78%\n",
      "P(train_strike | norman_late = 0, ) = 2.41%\n",
      "P(martin_late | norman_late = 0, ) = 42.35%\n",
      "P(norman_late | norman_late = 0, ) = 0.00%\n"
     ]
    }
   ],
   "source": [
    "conditional_probabilities(prior, names, {'norman_late': 0})"
   ]
  },
  {
   "cell_type": "code",
   "execution_count": 22,
   "metadata": {},
   "outputs": [
    {
     "name": "stdout",
     "output_type": "stream",
     "text": [
      "P(martin_oversleeps | norman_late = 1, martin_late = 1, ) = 51.32%\n",
      "P(train_strike | norman_late = 1, martin_late = 1, ) = 58.99%\n",
      "P(martin_late | norman_late = 1, martin_late = 1, ) = 100.00%\n",
      "P(norman_late | norman_late = 1, martin_late = 1, ) = 100.00%\n"
     ]
    }
   ],
   "source": [
    "conditional_probabilities(prior, names, {'norman_late': 1, 'martin_late': 1})"
   ]
  },
  {
   "cell_type": "code",
   "execution_count": null,
   "metadata": {},
   "outputs": [],
   "source": []
  },
  {
   "cell_type": "code",
   "execution_count": null,
   "metadata": {},
   "outputs": [],
   "source": []
  },
  {
   "cell_type": "code",
   "execution_count": null,
   "metadata": {},
   "outputs": [],
   "source": []
  },
  {
   "cell_type": "code",
   "execution_count": null,
   "metadata": {},
   "outputs": [],
   "source": []
  },
  {
   "cell_type": "code",
   "execution_count": null,
   "metadata": {},
   "outputs": [],
   "source": []
  },
  {
   "cell_type": "code",
   "execution_count": null,
   "metadata": {},
   "outputs": [],
   "source": []
  },
  {
   "cell_type": "code",
   "execution_count": null,
   "metadata": {},
   "outputs": [],
   "source": []
  },
  {
   "cell_type": "markdown",
   "metadata": {},
   "source": [
    "### Marginal distributions\n",
    "\n",
    "```python \n",
    "prior['martin_oversleeps'].mean()\n",
    "prior['train_strike'].mean()\n",
    "prior['martin_late'].mean()\n",
    "prior['norman_late'].mean()\n",
    "```"
   ]
  },
  {
   "cell_type": "markdown",
   "metadata": {},
   "source": [
    "### Conditioning on Norman being late\n",
    "\n",
    "```python \n",
    "prior['martin_oversleeps'][prior_trace['norman_late'] == 1].mean()\n",
    "prior['train_strike'][prior_trace['norman_late'] == 1].mean()\n",
    "prior['martin_late'][prior_trace['norman_late'] == 1].mean()\n",
    "prior['norman_late'][prior_trace['norman_late'] == 1].mean()\n",
    "```"
   ]
  },
  {
   "cell_type": "markdown",
   "metadata": {},
   "source": [
    "### Conditioning on Norman being late and Martin being late\n",
    "\n",
    "```python \n",
    "prior['martin_oversleeps'][(prior['martin_late'] == 1) & (prior['norman_late'] == 1)].mean()\n",
    "prior['train_strike'][(prior['martin_late'] == 1) & (prior['norman_late'] == 1)].mean()\n",
    "prior['martin_late'][(prior['martin_late'] == 1) & (prior['norman_late'] == 1)].mean()\n",
    "prior['norman_late'][(prior['martin_late'] == 1) & (prior['norman_late'] == 1)].mean()\n",
    "\n",
    "```"
   ]
  }
 ],
 "metadata": {
  "kernelspec": {
   "display_name": "Python 3",
   "language": "python",
   "name": "python3"
  },
  "language_info": {
   "codemirror_mode": {
    "name": "ipython",
    "version": 3
   },
   "file_extension": ".py",
   "mimetype": "text/x-python",
   "name": "python",
   "nbconvert_exporter": "python",
   "pygments_lexer": "ipython3",
   "version": "3.7.4"
  }
 },
 "nbformat": 4,
 "nbformat_minor": 4
}
