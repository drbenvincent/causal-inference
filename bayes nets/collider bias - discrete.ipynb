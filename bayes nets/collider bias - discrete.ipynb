{
 "cells": [
  {
   "cell_type": "markdown",
   "metadata": {},
   "source": [
    "# Exploration of Collider Bias with discrete Bayes Nets using `pgmpy`\n",
    "\n",
    "## Collider bias\n",
    "[Collider bias](https://en.wikipedia.org/wiki/Collider_(statistics) ) can be seen as a form of selection bias. In a causal network, if we have the structure `A -> Collider <- B`, then \"conditioning on the collider opens the path between A and B [which can] introduce bias when estimating the causal association between A and B, potentially introducing associations where there are none.\"\n",
    "\n",
    "## The `pgmpy` package\n",
    "Here we use the Python package [pgmpy](https://pgmpy.org) (GitHub repo [here](https://github.com/pgmpy/pgmpy)). There is a useful video of a talk about pgmpy here: https://www.youtube.com/watch?v=DEHqIxX1Kq4. It allows us to specify a Bayesian Net structure, along with the conditional probability distributions. Amongst other things, we can  query the net, conditional upon certain observations."
   ]
  },
  {
   "cell_type": "code",
   "execution_count": 1,
   "metadata": {},
   "outputs": [],
   "source": [
    "from pgmpy.models import BayesianModel\n",
    "from pgmpy.factors.discrete import TabularCPD\n",
    "from pgmpy.inference import VariableElimination"
   ]
  },
  {
   "cell_type": "markdown",
   "metadata": {},
   "source": [
    "## Example 1: Admission to university\n",
    "This example examines admission to prestigious university which is a function of whether you are good as sports and/or maths. The DAG looks like:\n",
    "\n",
    "    sports -> admission to prestigious university <- maths\n",
    "    \n",
    "Here we have a prior probability of 30% of being good at sports. **Independently**, there is a 30% prior probability of being good at maths. The vector `[0.9, 0.6, 0.6, 0.01]` specifies the probability of being admitted where each column corresponds to:\n",
    "\n",
    "- sports, maths.  If you are good at sports and maths, there is a high chance of getting admitted\n",
    "- sports, ¬maths. If you are good at sports but not maths there is am ok chance of getting admitted\n",
    "- ¬sports, maths. If you are good at sports but not maths there is am ok chance of getting admitted\n",
    "- ¬sports, ¬maths. If you are not good at sports or maths there a very low chance of getting admitted\n",
    "\n"
   ]
  },
  {
   "cell_type": "code",
   "execution_count": 2,
   "metadata": {},
   "outputs": [
    {
     "data": {
      "text/plain": [
       "True"
      ]
     },
     "execution_count": 2,
     "metadata": {},
     "output_type": "execute_result"
    }
   ],
   "source": [
    "model = BayesianModel([('sports', 'admitted'), ('maths', 'admitted')])\n",
    "\n",
    "# Defining the CPDs:\n",
    "cpd_a = TabularCPD('sports', 2, \n",
    "                   [[0.3, 0.7]],\n",
    "                   state_names={'sports': ['good', 'bad']})\n",
    "cpd_b = TabularCPD('maths', 2, [[0.3, 0.7]],\n",
    "                   state_names={'maths': ['good', 'bad']})\n",
    "cpd_collider = TabularCPD('admitted', 2, \n",
    "                          [[0.9, 0.6, 0.6, 0.01], \n",
    "                           [0.1, 0.4, 0.4, 0.99]],\n",
    "                          evidence=['sports','maths'],\n",
    "                          evidence_card=[2,2], \n",
    "                          state_names={'admitted': ['yes', 'no'], \n",
    "                                       'sports': ['good', 'bad'], \n",
    "                                       'maths': ['good', 'bad']})\n",
    "\n",
    "# Associating the CPDs with the network structure.\n",
    "model.add_cpds(cpd_a, cpd_b, cpd_collider)\n",
    "\n",
    "# Some other methods\n",
    "model.get_cpds()\n",
    "\n",
    "# Check if model is consistent\n",
    "model.check_model()"
   ]
  },
  {
   "cell_type": "code",
   "execution_count": 3,
   "metadata": {},
   "outputs": [],
   "source": [
    "# Do exact inference using Variable Elimination\n",
    "infer = VariableElimination(model)"
   ]
  },
  {
   "cell_type": "markdown",
   "metadata": {},
   "source": [
    "### Calculate P(maths|sports) and P(maths|¬sports)\n",
    "This is a sanity check. Maths and sports performance are indepdendent in our Bayes Net, and so we should find that P(maths|sports) = P(maths|¬sports)."
   ]
  },
  {
   "cell_type": "code",
   "execution_count": 4,
   "metadata": {},
   "outputs": [
    {
     "name": "stderr",
     "output_type": "stream",
     "text": [
      "Finding Elimination Order: : 100%|██████████| 1/1 [00:00<00:00, 546.20it/s]\n",
      "Eliminating: admitted: 100%|██████████| 1/1 [00:00<00:00, 526.59it/s]\n",
      "Finding Elimination Order: : 100%|██████████| 1/1 [00:00<00:00, 143.42it/s]\n",
      "Eliminating: admitted: 100%|██████████| 1/1 [00:00<00:00, 248.20it/s]"
     ]
    },
    {
     "name": "stdout",
     "output_type": "stream",
     "text": [
      "\n",
      "\n",
      "P(maths | good at sports)\n",
      "+-------------+--------------+\n",
      "| maths       |   phi(maths) |\n",
      "+=============+==============+\n",
      "| maths(good) |       0.3000 |\n",
      "+-------------+--------------+\n",
      "| maths(bad)  |       0.7000 |\n",
      "+-------------+--------------+\n",
      "\n",
      "\n",
      "P(maths | bad at sports)\n",
      "+-------------+--------------+\n",
      "| maths       |   phi(maths) |\n",
      "+=============+==============+\n",
      "| maths(good) |       0.3000 |\n",
      "+-------------+--------------+\n",
      "| maths(bad)  |       0.7000 |\n",
      "+-------------+--------------+\n"
     ]
    },
    {
     "name": "stderr",
     "output_type": "stream",
     "text": [
      "\n"
     ]
    }
   ],
   "source": [
    "# Note: sports = 0 is good at sports\n",
    "result = infer.query(['maths'], evidence={'sports': 'good'})\n",
    "print(\"\\n\\nP(maths | good at sports)\")\n",
    "print(result)  \n",
    "\n",
    "# Note: sports = 1 is bad at sports\n",
    "result = infer.query(['maths'], evidence={'sports': 'bad'})\n",
    "print(\"\\n\\nP(maths | bad at sports)\")\n",
    "print(result)"
   ]
  },
  {
   "cell_type": "markdown",
   "metadata": {},
   "source": [
    "Confirmed. Results show probability you are talented at maths is independent if you only observe talent in sport."
   ]
  },
  {
   "cell_type": "markdown",
   "metadata": {},
   "source": [
    "### Calculate P(maths|sports, admitted) and P(maths|¬sports, admitted)\n",
    "However, if you only look at those who are admitted (i.e. condition on admission), people who are bad at sports are more likely to be good at maths than those who are bad at maths.\n",
    "\n",
    "So if you only look at the people who are admitted to university, then you would conclude that "
   ]
  },
  {
   "cell_type": "code",
   "execution_count": 5,
   "metadata": {},
   "outputs": [
    {
     "name": "stderr",
     "output_type": "stream",
     "text": [
      "Finding Elimination Order: : : 0it [00:00, ?it/s]\n",
      "0it [00:00, ?it/s]\n",
      "Finding Elimination Order: : : 0it [00:00, ?it/s]\n",
      "0it [00:00, ?it/s]"
     ]
    },
    {
     "name": "stdout",
     "output_type": "stream",
     "text": [
      "\n",
      "\n",
      "P(maths | good at sports, admitted)\n",
      "+-------------+--------------+\n",
      "| maths       |   phi(maths) |\n",
      "+=============+==============+\n",
      "| maths(good) |       0.3913 |\n",
      "+-------------+--------------+\n",
      "| maths(bad)  |       0.6087 |\n",
      "+-------------+--------------+\n",
      "\n",
      "\n",
      "P(maths | bad at sports, admitted)\n",
      "+-------------+--------------+\n",
      "| maths       |   phi(maths) |\n",
      "+=============+==============+\n",
      "| maths(good) |       0.9626 |\n",
      "+-------------+--------------+\n",
      "| maths(bad)  |       0.0374 |\n",
      "+-------------+--------------+\n"
     ]
    },
    {
     "name": "stderr",
     "output_type": "stream",
     "text": [
      "\n"
     ]
    }
   ],
   "source": [
    "result = infer.query(['maths'], evidence={'sports': 'good', 'admitted': 'yes'})\n",
    "print(\"\\n\\nP(maths | good at sports, admitted)\")\n",
    "print(result)\n",
    "\n",
    "result = infer.query(['maths'], evidence={'sports': 'bad', 'admitted': 'yes'})\n",
    "print(\"\\n\\nP(maths | bad at sports, admitted)\")\n",
    "print(result)"
   ]
  },
  {
   "cell_type": "markdown",
   "metadata": {},
   "source": [
    "Top shows there is a ~39% chance of being good at maths if you are good at sports and admitted.\n",
    "\n",
    "Bottom shows there is a ~96% chance of being good at maths if you are bad at sports and admitted.\n",
    "\n",
    "So this is our collider bias / selection bias. By looking only at people who are selected for admission, it looks like sports and maths performance are negatively correlated (that you are most likely good at either maths or sports)."
   ]
  },
  {
   "cell_type": "markdown",
   "metadata": {},
   "source": [
    "# Example 2: Does collider bias make it look like nicotine is protective of COVID\n",
    "\n",
    "![](img/bayes_net_1.png)\n",
    "\n",
    "Here we have a prior probability of 25% of being a smoker. **Independently**, there is a 10% prior probability of having Covid-19. The vector `[0.9, 0.1, 0.9, 0.01]` specifies the probability of being in hospital as a function of smoking and covid status:\n",
    "\n",
    "- smoking, covid. High probability of being in hospital.\n",
    "- smoking, ¬covid. Moderate probability of being in hospital\n",
    "- ¬smoking, covid. High probability of being in hospital\n",
    "- ¬smoking, ¬covid. Low probability of being in hospital\n",
    "\n",
    "One of the key points here is that of people who do not have covid, smokers are expected to have a higher probability of being in hospital than non-smokers."
   ]
  },
  {
   "cell_type": "code",
   "execution_count": 6,
   "metadata": {},
   "outputs": [
    {
     "data": {
      "text/plain": [
       "[<TabularCPD representing P(smoking:2) at 0x1a23ae31d0>,\n",
       " <TabularCPD representing P(covid:2) at 0x1a23ae3250>,\n",
       " <TabularCPD representing P(hospital:2 | smoking:2, covid:2) at 0x1a23ae3350>]"
      ]
     },
     "execution_count": 6,
     "metadata": {},
     "output_type": "execute_result"
    }
   ],
   "source": [
    "model = BayesianModel([('smoking', 'hospital'), ('covid', 'hospital')])\n",
    "\n",
    "# Defining the CPDs:\n",
    "cpd_a = TabularCPD('smoking', 2, \n",
    "                   [[0.25, 0.75]], \n",
    "                   state_names={'smoking': ['yes', 'no']})\n",
    "cpd_b = TabularCPD('covid', 2, \n",
    "                   [[0.1, 0.9]], \n",
    "                   state_names={'covid': ['yes', 'no']})\n",
    "cpd_collider = TabularCPD('hospital', 2, \n",
    "                          [[0.9, 0.1, 0.9, 0.01], \n",
    "                           [0.1, 0.9, 0.1, 0.99]],\n",
    "                          evidence=['smoking','covid'],\n",
    "                          evidence_card=[2,2], \n",
    "                          state_names={'hospital': ['yes', 'no'], \n",
    "                                       'smoking': ['yes', 'no'], \n",
    "                                       'covid': ['yes', 'no']})\n",
    "\n",
    "# Associating the CPDs with the network structure.\n",
    "model.add_cpds(cpd_a, cpd_b, cpd_collider)\n",
    "\n",
    "# Some other methods\n",
    "model.get_cpds()"
   ]
  },
  {
   "cell_type": "code",
   "execution_count": 7,
   "metadata": {},
   "outputs": [],
   "source": [
    "# Do exact inference using Variable Elimination\n",
    "infer = VariableElimination(model)"
   ]
  },
  {
   "cell_type": "markdown",
   "metadata": {},
   "source": [
    "Probability you have covid depending on if you are a smoker or non-smoker. These should be equal as our Bayes Net specifies that smoking and covid are independent."
   ]
  },
  {
   "cell_type": "code",
   "execution_count": 8,
   "metadata": {},
   "outputs": [
    {
     "name": "stderr",
     "output_type": "stream",
     "text": [
      "Finding Elimination Order: : 100%|██████████| 1/1 [00:00<00:00, 423.71it/s]\n",
      "Eliminating: hospital: 100%|██████████| 1/1 [00:00<00:00, 714.29it/s]\n",
      "Finding Elimination Order: : 100%|██████████| 1/1 [00:00<00:00, 973.61it/s]\n",
      "Eliminating: hospital: 100%|██████████| 1/1 [00:00<00:00, 514.95it/s]"
     ]
    },
    {
     "name": "stdout",
     "output_type": "stream",
     "text": [
      "\n",
      "\n",
      "P(covid | smoker)\n",
      "+------------+--------------+\n",
      "| covid      |   phi(covid) |\n",
      "+============+==============+\n",
      "| covid(yes) |       0.1000 |\n",
      "+------------+--------------+\n",
      "| covid(no)  |       0.9000 |\n",
      "+------------+--------------+\n",
      "\n",
      "\n",
      "P(covid | non-smoker)\n",
      "+------------+--------------+\n",
      "| covid      |   phi(covid) |\n",
      "+============+==============+\n",
      "| covid(yes) |       0.1000 |\n",
      "+------------+--------------+\n",
      "| covid(no)  |       0.9000 |\n",
      "+------------+--------------+\n"
     ]
    },
    {
     "name": "stderr",
     "output_type": "stream",
     "text": [
      "\n"
     ]
    }
   ],
   "source": [
    "result = infer.query(['covid'], evidence={'smoking': 'yes'})\n",
    "print(\"\\n\\nP(covid | smoker)\")\n",
    "print(result)\n",
    "\n",
    "result = infer.query(['covid'], evidence={'smoking': 'no'})\n",
    "print(\"\\n\\nP(covid | non-smoker)\")\n",
    "print(result)"
   ]
  },
  {
   "cell_type": "markdown",
   "metadata": {},
   "source": [
    "Confirmed."
   ]
  },
  {
   "cell_type": "markdown",
   "metadata": {},
   "source": [
    "### Calculate P(covid|smoking, hospital) and P(covid|¬smoking, hospital)\n",
    "\n",
    "If you condition upon being in hospital (ie only observer people who are in hospital), then it might be that we see different probabilities of having covid based on whether you smoke or not."
   ]
  },
  {
   "cell_type": "code",
   "execution_count": 9,
   "metadata": {},
   "outputs": [
    {
     "name": "stderr",
     "output_type": "stream",
     "text": [
      "Finding Elimination Order: : : 0it [00:00, ?it/s]\n",
      "0it [00:00, ?it/s]\n",
      "Finding Elimination Order: : : 0it [00:00, ?it/s]"
     ]
    },
    {
     "name": "stdout",
     "output_type": "stream",
     "text": [
      "\n",
      "\n",
      "P(covid | smoker, hospital)\n",
      "+------------+--------------+\n",
      "| covid      |   phi(covid) |\n",
      "+============+==============+\n",
      "| covid(yes) |       0.5000 |\n",
      "+------------+--------------+\n",
      "| covid(no)  |       0.5000 |\n",
      "+------------+--------------+\n"
     ]
    },
    {
     "name": "stderr",
     "output_type": "stream",
     "text": [
      "\n",
      "0it [00:00, ?it/s]"
     ]
    },
    {
     "name": "stdout",
     "output_type": "stream",
     "text": [
      "\n",
      "\n",
      "P(covid | non-smoker, hospital)\n",
      "+------------+--------------+\n",
      "| covid      |   phi(covid) |\n",
      "+============+==============+\n",
      "| covid(yes) |       0.9091 |\n",
      "+------------+--------------+\n",
      "| covid(no)  |       0.0909 |\n",
      "+------------+--------------+\n"
     ]
    },
    {
     "name": "stderr",
     "output_type": "stream",
     "text": [
      "\n"
     ]
    }
   ],
   "source": [
    "result = infer.query(['covid'], evidence={'smoking': 'yes', 'hospital': 'yes'})\n",
    "print(\"\\n\\nP(covid | smoker, hospital)\")\n",
    "print(result)\n",
    "\n",
    "result = infer.query(['covid'], evidence={'smoking': 'no', 'hospital': 'yes'})\n",
    "print(\"\\n\\nP(covid | non-smoker, hospital)\")\n",
    "print(result)"
   ]
  },
  {
   "cell_type": "markdown",
   "metadata": {},
   "source": [
    "Boom! There we have it. There is a _higher_ chance that you will have Covid-19 if you are a _non-smoker_ in hospital, then if you are a smoker in hospital. And this result is produced by a Bayesian Net which explicitly states that having covid is statistically independent from being a smoker.\n",
    "\n",
    "This is not necessarily proof that nicotine is useless against covid. But it does show that somewhat perplexing epidemiological results should not be taken as sufficient evidence that nicotine is protective against covid."
   ]
  },
  {
   "cell_type": "markdown",
   "metadata": {},
   "source": [
    "## Example 3: Slightly more complex Covid/Smoking model\n",
    "\n",
    "Elaborating the Bayes Net in this way allows us to add in hit rate and false alarm rate \n",
    "\n",
    "![](img/model_complex.png)"
   ]
  },
  {
   "cell_type": "code",
   "execution_count": 10,
   "metadata": {},
   "outputs": [
    {
     "data": {
      "text/plain": [
       "True"
      ]
     },
     "execution_count": 10,
     "metadata": {},
     "output_type": "execute_result"
    }
   ],
   "source": [
    "# Build structure of model\n",
    "model = BayesianModel([('Covid', 'Symptoms'), \n",
    "                       ('Symptoms', 'Hospital'),\n",
    "                       ('Smoker', 'Hospital'),  \n",
    "                       ('Covid', 'Positive')])\n",
    "\n",
    "# Build conditional probability distributions\n",
    "cpd_c = TabularCPD('Covid', 2, \n",
    "                   [[0.1, 0.9]], \n",
    "                   state_names={'Covid': ['yes', 'no']})\n",
    "\n",
    "cpd_s = TabularCPD('Smoker', 2, \n",
    "                   [[0.25, 0.75]], \n",
    "                   state_names={'Smoker': ['yes', 'no']})\n",
    "\n",
    "cpd_i = TabularCPD('Symptoms', 2, \n",
    "                   [[0.95, 0.001],\n",
    "                    [0.05, 0.999]], \n",
    "                   evidence=['Covid'], \n",
    "                   evidence_card=[2], \n",
    "                   state_names={'Symptoms': ['yes', 'no'],\n",
    "                                'Covid': ['yes', 'no']})\n",
    "\n",
    "cpd_h = TabularCPD('Hospital', 2, \n",
    "                   [[0.9, 0.1, 0.9, 0.01], \n",
    "                    [0.1, 0.9, 0.1, 0.99]], \n",
    "                   evidence=['Smoker', 'Symptoms'], \n",
    "                   evidence_card=[2, 2],\n",
    "                   state_names={'Hospital': ['yes', 'no'],\n",
    "                                'Smoker': ['yes', 'no'], \n",
    "                                'Symptoms': ['yes', 'no']})\n",
    "\n",
    "hit_rate = 0.95\n",
    "false_alarm_rate = 0.1\n",
    "cpd_p = TabularCPD('Positive', 2, \n",
    "                   [[hit_rate, false_alarm_rate],\n",
    "                    [1-hit_rate, 1-false_alarm_rate]], \n",
    "                   evidence=['Covid'], \n",
    "                   evidence_card=[2], \n",
    "                   state_names={'Positive': ['yes', 'no'],\n",
    "                                'Covid': ['yes', 'no']})\n",
    "\n",
    "# Add conditional probability distributions to model\n",
    "model.add_cpds(cpd_c, cpd_s, cpd_i, cpd_h, cpd_p)\n",
    "\n",
    "# Check if model is consistent\n",
    "model.check_model()"
   ]
  },
  {
   "cell_type": "code",
   "execution_count": 11,
   "metadata": {},
   "outputs": [],
   "source": [
    "# Do exact inference using Variable Elimination\n",
    "infer = VariableElimination(model)"
   ]
  },
  {
   "cell_type": "markdown",
   "metadata": {},
   "source": [
    "Sanity check: Is P(positive|smoker) = P(positive|non-smoker)?"
   ]
  },
  {
   "cell_type": "code",
   "execution_count": 12,
   "metadata": {},
   "outputs": [
    {
     "name": "stderr",
     "output_type": "stream",
     "text": [
      "Finding Elimination Order: : 100%|██████████| 3/3 [00:00<00:00, 2740.18it/s]\n",
      "Eliminating: Covid: 100%|██████████| 3/3 [00:00<00:00, 679.17it/s]\n",
      "  0%|          | 0/3 [00:00<?, ?it/s]"
     ]
    },
    {
     "name": "stdout",
     "output_type": "stream",
     "text": [
      "\n",
      "\n",
      "P(covid | smoker)\n",
      "+---------------+-----------------+\n",
      "| Positive      |   phi(Positive) |\n",
      "+===============+=================+\n",
      "| Positive(yes) |          0.1850 |\n",
      "+---------------+-----------------+\n",
      "| Positive(no)  |          0.8150 |\n",
      "+---------------+-----------------+\n"
     ]
    },
    {
     "name": "stderr",
     "output_type": "stream",
     "text": [
      "Finding Elimination Order: : 100%|██████████| 3/3 [00:00<00:00, 943.03it/s]\n",
      "Eliminating: Covid: 100%|██████████| 3/3 [00:00<00:00, 362.41it/s]"
     ]
    },
    {
     "name": "stdout",
     "output_type": "stream",
     "text": [
      "\n",
      "\n",
      "P(covid | non-smoker)\n",
      "+---------------+-----------------+\n",
      "| Positive      |   phi(Positive) |\n",
      "+===============+=================+\n",
      "| Positive(yes) |          0.1850 |\n",
      "+---------------+-----------------+\n",
      "| Positive(no)  |          0.8150 |\n",
      "+---------------+-----------------+\n"
     ]
    },
    {
     "name": "stderr",
     "output_type": "stream",
     "text": [
      "\n"
     ]
    }
   ],
   "source": [
    "result = infer.query(['Positive'], evidence={'Smoker': 'yes'})\n",
    "print(\"\\n\\nP(covid | smoker)\")\n",
    "print(result)\n",
    "\n",
    "result = infer.query(['Positive'], evidence={'Smoker': 'no'})\n",
    "print(\"\\n\\nP(covid | non-smoker)\")\n",
    "print(result)"
   ]
  },
  {
   "cell_type": "markdown",
   "metadata": {},
   "source": [
    "Confirmed"
   ]
  },
  {
   "cell_type": "markdown",
   "metadata": {},
   "source": [
    "### Do we get a collider bias?\n",
    "Is P(positive|smoker,hospital) < P(positive|non-smoker,hospital)?"
   ]
  },
  {
   "cell_type": "code",
   "execution_count": 13,
   "metadata": {},
   "outputs": [
    {
     "name": "stderr",
     "output_type": "stream",
     "text": [
      "Finding Elimination Order: : 100%|██████████| 2/2 [00:00<00:00, 1563.58it/s]\n",
      "Eliminating: Covid: 100%|██████████| 2/2 [00:00<00:00, 699.28it/s]\n",
      "Finding Elimination Order: : 100%|██████████| 2/2 [00:00<00:00, 808.70it/s]\n",
      "Eliminating: Covid: 100%|██████████| 2/2 [00:00<00:00, 447.51it/s]"
     ]
    },
    {
     "name": "stdout",
     "output_type": "stream",
     "text": [
      "\n",
      "\n",
      "P(Positive | smoker, hospital)\n",
      "+---------------+-----------------+\n",
      "| Positive      |   phi(Positive) |\n",
      "+===============+=================+\n",
      "| Positive(yes) |          0.5136 |\n",
      "+---------------+-----------------+\n",
      "| Positive(no)  |          0.4864 |\n",
      "+---------------+-----------------+\n",
      "\n",
      "\n",
      "P(Positive | non-smoker, hospital)\n",
      "+---------------+-----------------+\n",
      "| Positive      |   phi(Positive) |\n",
      "+===============+=================+\n",
      "| Positive(yes) |          0.8626 |\n",
      "+---------------+-----------------+\n",
      "| Positive(no)  |          0.1374 |\n",
      "+---------------+-----------------+\n"
     ]
    },
    {
     "name": "stderr",
     "output_type": "stream",
     "text": [
      "\n"
     ]
    }
   ],
   "source": [
    "result = infer.query(['Positive'], evidence={'Smoker': 'yes', 'Hospital': 'yes'})\n",
    "print(\"\\n\\nP(Positive | smoker, hospital)\")\n",
    "print(result)\n",
    "\n",
    "result = infer.query(['Positive'], evidence={'Smoker': 'no', 'Hospital': 'yes'})\n",
    "print(\"\\n\\nP(Positive | non-smoker, hospital)\")\n",
    "print(result)"
   ]
  },
  {
   "cell_type": "code",
   "execution_count": 15,
   "metadata": {},
   "outputs": [
    {
     "data": {
      "text/plain": [
       "array([0.86262965, 0.13737035])"
      ]
     },
     "execution_count": 15,
     "metadata": {},
     "output_type": "execute_result"
    }
   ],
   "source": [
    "result.values"
   ]
  },
  {
   "cell_type": "markdown",
   "metadata": {},
   "source": [
    "Yes.\n",
    "\n",
    "Again, there is a _higher_ chance that you will have Covid-19 if you are a _non-smoker_ in hospital, then if you are a smoker in hospital. \n",
    "\n",
    "Probabilities now are different because we have a more detailed model with more parameters, but the basic effect is still there."
   ]
  },
  {
   "cell_type": "code",
   "execution_count": null,
   "metadata": {},
   "outputs": [],
   "source": []
  }
 ],
 "metadata": {
  "kernelspec": {
   "display_name": "Python 3",
   "language": "python",
   "name": "python3"
  },
  "language_info": {
   "codemirror_mode": {
    "name": "ipython",
    "version": 3
   },
   "file_extension": ".py",
   "mimetype": "text/x-python",
   "name": "python",
   "nbconvert_exporter": "python",
   "pygments_lexer": "ipython3",
   "version": "3.7.4"
  }
 },
 "nbformat": 4,
 "nbformat_minor": 4
}
