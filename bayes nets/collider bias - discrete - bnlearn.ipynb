{
 "cells": [
  {
   "cell_type": "markdown",
   "metadata": {},
   "source": [
    "# [NOT WORKING] Exploration of Collider Bias with discrete Bayes Nets using `bnlearn`\n",
    "\n",
    "[Collider bias](https://en.wikipedia.org/wiki/Collider_(statistics) ) can be seen as a form of selection bias. In a causal network, if we have the structure `A -> Collider <- B`, then \"conditioning on the collider opens the path between A and B [which can] introduce bias when estimating the causal association between A and B, potentially introducing associations where there are none.\""
   ]
  },
  {
   "cell_type": "code",
   "execution_count": 1,
   "metadata": {},
   "outputs": [
    {
     "data": {
      "text/plain": [
       "'0.3.6'"
      ]
     },
     "execution_count": 1,
     "metadata": {},
     "output_type": "execute_result"
    }
   ],
   "source": [
    "import bnlearn\n",
    "from pgmpy.factors.discrete import TabularCPD\n",
    "\n",
    "bnlearn.__version__"
   ]
  },
  {
   "cell_type": "markdown",
   "metadata": {},
   "source": [
    "## check it works with example from the docs"
   ]
  },
  {
   "cell_type": "code",
   "execution_count": 2,
   "metadata": {},
   "outputs": [
    {
     "name": "stdout",
     "output_type": "stream",
     "text": [
      "[BNLEARN] Bayesian DAG created.\n"
     ]
    }
   ],
   "source": [
    "# Define the network structure\n",
    "edges = [('Cloudy', 'Sprinkler'),\n",
    "         ('Cloudy', 'Rain'),\n",
    "         ('Sprinkler', 'Wet_Grass'),\n",
    "         ('Rain', 'Wet_Grass')]\n",
    "\n",
    "# Make the actual Bayesian DAG\n",
    "DAG = bnlearn.make_DAG(edges)"
   ]
  },
  {
   "cell_type": "code",
   "execution_count": 3,
   "metadata": {},
   "outputs": [
    {
     "name": "stdout",
     "output_type": "stream",
     "text": [
      "[BNLEARN][plot] Making plot based on BayesianModel\n"
     ]
    },
    {
     "data": {
      "image/png": "[encoded data removed]",
      "text/plain": [
       "<Figure size 1080x576 with 1 Axes>"
      ]
     },
     "metadata": {},
     "output_type": "display_data"
    },
    {
     "data": {
      "text/plain": [
       "{'pos': {'Cloudy': array([0.4229779 , 0.96483836]),\n",
       "  'Sprinkler': array([ 0.90967222, -0.61856567]),\n",
       "  'Rain': array([-1.        ,  0.37762078]),\n",
       "  'Wet_Grass': array([-0.33265012, -0.72389347])},\n",
       " 'G': <networkx.classes.digraph.DiGraph at 0x1a26d57b90>}"
      ]
     },
     "execution_count": 3,
     "metadata": {},
     "output_type": "execute_result"
    }
   ],
   "source": [
    "bnlearn.plot(DAG)"
   ]
  },
  {
   "cell_type": "code",
   "execution_count": 4,
   "metadata": {},
   "outputs": [],
   "source": [
    "cpt_cloudy = TabularCPD(variable='Cloudy', variable_card=2, values=[[0.5], [0.5]])\n",
    "\n",
    "cpt_sprinkler = TabularCPD(variable='Sprinkler', variable_card=2,\n",
    "                           values=[[0.5, 0.9],\n",
    "                                   [0.5, 0.1]],\n",
    "                           evidence=['Cloudy'], evidence_card=[2])\n",
    "# Rain\n",
    "cpt_rain = TabularCPD(variable='Rain', variable_card=2,\n",
    "                      values=[[0.8, 0.2],\n",
    "                              [0.2, 0.8]],\n",
    "                      evidence=['Cloudy'], evidence_card=[2])\n",
    "\n",
    "# Wet Grass\n",
    "cpt_wet_grass = TabularCPD(variable='Wet_Grass', variable_card=2,\n",
    "                           values=[[1, 0.1, 0.1, 0.01],\n",
    "                                   [0, 0.9, 0.9, 0.99]],\n",
    "                           evidence=['Sprinkler', 'Rain'],\n",
    "                           evidence_card=[2, 2])"
   ]
  },
  {
   "cell_type": "code",
   "execution_count": 5,
   "metadata": {},
   "outputs": [
    {
     "name": "stdout",
     "output_type": "stream",
     "text": [
      "[BNLEARN] No changes made to existing Bayesian DAG.\n",
      "[BNLEARN] Add CPD: Cloudy\n",
      "[BNLEARN] Add CPD: Sprinkler\n",
      "[BNLEARN] Add CPD: Rain\n",
      "[BNLEARN] Add CPD: Wet_Grass\n",
      "[BNLEARN.print_CPD] Model correct: True\n"
     ]
    }
   ],
   "source": [
    "DAG = bnlearn.make_DAG(DAG, CPD=[cpt_cloudy, cpt_sprinkler, cpt_rain, cpt_wet_grass])"
   ]
  },
  {
   "cell_type": "code",
   "execution_count": 6,
   "metadata": {},
   "outputs": [
    {
     "name": "stdout",
     "output_type": "stream",
     "text": [
      "[BNLEARN.print_CPD] Independencies:\n",
      "(Cloudy _|_ Wet_Grass | Rain, Sprinkler)\n",
      "(Sprinkler _|_ Rain | Cloudy)\n",
      "(Rain _|_ Sprinkler | Cloudy)\n",
      "(Wet_Grass _|_ Cloudy | Rain, Sprinkler)\n",
      "[BNLEARN.print_CPD] Nodes: ['Cloudy', 'Sprinkler', 'Rain', 'Wet_Grass']\n",
      "[BNLEARN.print_CPD] Edges: [('Cloudy', 'Sprinkler'), ('Cloudy', 'Rain'), ('Sprinkler', 'Wet_Grass'), ('Rain', 'Wet_Grass')]\n",
      "CPD of Cloudy:\n",
      "+-----------+-----+\n",
      "| Cloudy(0) | 0.5 |\n",
      "+-----------+-----+\n",
      "| Cloudy(1) | 0.5 |\n",
      "+-----------+-----+\n",
      "CPD of Sprinkler:\n",
      "+--------------+-----------+-----------+\n",
      "| Cloudy       | Cloudy(0) | Cloudy(1) |\n",
      "+--------------+-----------+-----------+\n",
      "| Sprinkler(0) | 0.5       | 0.9       |\n",
      "+--------------+-----------+-----------+\n",
      "| Sprinkler(1) | 0.5       | 0.1       |\n",
      "+--------------+-----------+-----------+\n",
      "CPD of Rain:\n",
      "+---------+-----------+-----------+\n",
      "| Cloudy  | Cloudy(0) | Cloudy(1) |\n",
      "+---------+-----------+-----------+\n",
      "| Rain(0) | 0.8       | 0.2       |\n",
      "+---------+-----------+-----------+\n",
      "| Rain(1) | 0.2       | 0.8       |\n",
      "+---------+-----------+-----------+\n",
      "CPD of Wet_Grass:\n",
      "+--------------+--------------+--------------+--------------+--------------+\n",
      "| Sprinkler    | Sprinkler(0) | Sprinkler(0) | Sprinkler(1) | Sprinkler(1) |\n",
      "+--------------+--------------+--------------+--------------+--------------+\n",
      "| Rain         | Rain(0)      | Rain(1)      | Rain(0)      | Rain(1)      |\n",
      "+--------------+--------------+--------------+--------------+--------------+\n",
      "| Wet_Grass(0) | 1.0          | 0.1          | 0.1          | 0.01         |\n",
      "+--------------+--------------+--------------+--------------+--------------+\n",
      "| Wet_Grass(1) | 0.0          | 0.9          | 0.9          | 0.99         |\n",
      "+--------------+--------------+--------------+--------------+--------------+\n"
     ]
    }
   ],
   "source": [
    "bnlearn.print_CPD(DAG)"
   ]
  },
  {
   "cell_type": "code",
   "execution_count": 7,
   "metadata": {},
   "outputs": [
    {
     "name": "stderr",
     "output_type": "stream",
     "text": [
      "Finding Elimination Order: : : 0it [00:00, ?it/s]\n",
      "0it [00:00, ?it/s]"
     ]
    },
    {
     "name": "stdout",
     "output_type": "stream",
     "text": [
      "[BNLEARN][inference] Variable Elimination..\n",
      "+--------------+------------------+\n",
      "| Wet_Grass    |   phi(Wet_Grass) |\n",
      "+==============+==================+\n",
      "| Wet_Grass(0) |           0.1000 |\n",
      "+--------------+------------------+\n",
      "| Wet_Grass(1) |           0.9000 |\n",
      "+--------------+------------------+\n"
     ]
    },
    {
     "name": "stderr",
     "output_type": "stream",
     "text": [
      "\n"
     ]
    }
   ],
   "source": [
    "q1 = bnlearn.inference.fit(DAG, variables=['Wet_Grass'], evidence={'Rain':1, 'Sprinkler':0, 'Cloudy':1})"
   ]
  },
  {
   "cell_type": "code",
   "execution_count": 8,
   "metadata": {},
   "outputs": [
    {
     "name": "stderr",
     "output_type": "stream",
     "text": [
      "Finding Elimination Order: : : 0it [00:00, ?it/s]\n",
      "0it [00:00, ?it/s]"
     ]
    },
    {
     "name": "stdout",
     "output_type": "stream",
     "text": [
      "[BNLEARN][inference] Variable Elimination..\n",
      "+--------------+------------------+\n",
      "| Wet_Grass    |   phi(Wet_Grass) |\n",
      "+==============+==================+\n",
      "| Wet_Grass(0) |           0.1000 |\n",
      "+--------------+------------------+\n",
      "| Wet_Grass(1) |           0.9000 |\n",
      "+--------------+------------------+\n"
     ]
    },
    {
     "name": "stderr",
     "output_type": "stream",
     "text": [
      "\n"
     ]
    }
   ],
   "source": [
    "q1 = bnlearn.inference.fit(DAG, variables=['Wet_Grass'], evidence={'Rain':1, 'Sprinkler':0, 'Cloudy':0})"
   ]
  },
  {
   "cell_type": "code",
   "execution_count": null,
   "metadata": {},
   "outputs": [],
   "source": []
  },
  {
   "cell_type": "code",
   "execution_count": null,
   "metadata": {},
   "outputs": [],
   "source": []
  },
  {
   "cell_type": "code",
   "execution_count": null,
   "metadata": {},
   "outputs": [],
   "source": []
  },
  {
   "cell_type": "code",
   "execution_count": null,
   "metadata": {},
   "outputs": [],
   "source": []
  },
  {
   "cell_type": "code",
   "execution_count": null,
   "metadata": {},
   "outputs": [],
   "source": []
  },
  {
   "cell_type": "markdown",
   "metadata": {},
   "source": [
    "# Example 2: Does collider bias make it look like nicotine is protective of COVID\n",
    "\n",
    "![](img/bayes_net_1.png)\n",
    "\n",
    "Here we have a prior probability of 25% of being a smoker. **Independently**, there is a 10% prior probability of having Covid-19. The vector `[0.9, 0.1, 0.9, 0.01]` specifies the probability of being in hospital as a function of smoking and covid status:\n",
    "\n",
    "- smoking, covid. High probability of being in hospital.\n",
    "- smoking, ¬covid. Moderate probability of being in hospital\n",
    "- ¬smoking, covid. High probability of being in hospital\n",
    "- ¬smoking, ¬covid. Low probability of being in hospital\n",
    "\n",
    "One of the key points here is that of people who do not have covid, smokers are expected to have a higher probability of being in hospital than non-smokers."
   ]
  },
  {
   "cell_type": "code",
   "execution_count": 9,
   "metadata": {},
   "outputs": [
    {
     "name": "stdout",
     "output_type": "stream",
     "text": [
      "[BNLEARN] Bayesian DAG created.\n",
      "[BNLEARN][plot] Making plot based on BayesianModel\n"
     ]
    },
    {
     "data": {
      "image/png": "[encoded data removed]",
      "text/plain": [
       "<Figure size 1080x576 with 1 Axes>"
      ]
     },
     "metadata": {},
     "output_type": "display_data"
    },
    {
     "data": {
      "text/plain": [
       "{'pos': {'smoke': array([-0.93762939,  0.51112426]),\n",
       "  'hospital': array([-0.06237061, -0.96591125]),\n",
       "  'covid': array([1.      , 0.454787])},\n",
       " 'G': <networkx.classes.digraph.DiGraph at 0x1a2738cbd0>}"
      ]
     },
     "execution_count": 9,
     "metadata": {},
     "output_type": "execute_result"
    }
   ],
   "source": [
    "edges = [('smoke', 'hospital'),\n",
    "         ('covid', 'hospital')]\n",
    "\n",
    "DAG = bnlearn.make_DAG(edges)\n",
    "\n",
    "bnlearn.plot(DAG)"
   ]
  },
  {
   "cell_type": "code",
   "execution_count": 10,
   "metadata": {},
   "outputs": [],
   "source": [
    "cpd_a = TabularCPD('smoke', 2, \n",
    "                   [[0.25, 0.75]], \n",
    "                   state_names={'smoke': ['yes', 'no']})\n",
    "\n",
    "cpd_b = TabularCPD('covid', 2, \n",
    "                   [[0.1, 0.9]], \n",
    "                   state_names={'covid': ['yes', 'no']})\n",
    "\n",
    "cpd_collider = TabularCPD('hospital', 2, \n",
    "                          [[0.9, 0.1, 0.9, 0.01], \n",
    "                           [0.1, 0.9, 0.1, 0.99]],\n",
    "                          evidence=['smoke','covid'],\n",
    "                          evidence_card=[2,2], \n",
    "                          state_names={'hospital': ['yes', 'no'], \n",
    "                                       'smoke': ['yes', 'no'], \n",
    "                                       'covid': ['yes', 'no']})"
   ]
  },
  {
   "cell_type": "code",
   "execution_count": 11,
   "metadata": {},
   "outputs": [
    {
     "name": "stdout",
     "output_type": "stream",
     "text": [
      "[BNLEARN] No changes made to existing Bayesian DAG.\n",
      "[BNLEARN] Add CPD: smoke\n",
      "[BNLEARN] Add CPD: covid\n",
      "[BNLEARN] Add CPD: hospital\n",
      "[BNLEARN.print_CPD] Model correct: True\n"
     ]
    }
   ],
   "source": [
    "DAG = bnlearn.make_DAG(DAG, CPD=[cpd_a, cpd_b, cpd_collider])"
   ]
  },
  {
   "cell_type": "code",
   "execution_count": 12,
   "metadata": {},
   "outputs": [
    {
     "name": "stdout",
     "output_type": "stream",
     "text": [
      "[BNLEARN.print_CPD] Independencies:\n",
      "(smoke _|_ covid)\n",
      "(covid _|_ smoke)\n",
      "[BNLEARN.print_CPD] Nodes: ['smoke', 'hospital', 'covid']\n",
      "[BNLEARN.print_CPD] Edges: [('smoke', 'hospital'), ('covid', 'hospital')]\n",
      "CPD of smoke:\n",
      "+------------+------+\n",
      "| smoke(yes) | 0.25 |\n",
      "+------------+------+\n",
      "| smoke(no)  | 0.75 |\n",
      "+------------+------+\n",
      "CPD of covid:\n",
      "+------------+-----+\n",
      "| covid(yes) | 0.1 |\n",
      "+------------+-----+\n",
      "| covid(no)  | 0.9 |\n",
      "+------------+-----+\n",
      "CPD of hospital:\n",
      "+---------------+------------+------------+------------+-----------+\n",
      "| smoke         | smoke(yes) | smoke(yes) | smoke(no)  | smoke(no) |\n",
      "+---------------+------------+------------+------------+-----------+\n",
      "| covid         | covid(yes) | covid(no)  | covid(yes) | covid(no) |\n",
      "+---------------+------------+------------+------------+-----------+\n",
      "| hospital(yes) | 0.9        | 0.1        | 0.9        | 0.01      |\n",
      "+---------------+------------+------------+------------+-----------+\n",
      "| hospital(no)  | 0.1        | 0.9        | 0.1        | 0.99      |\n",
      "+---------------+------------+------------+------------+-----------+\n"
     ]
    }
   ],
   "source": [
    "bnlearn.print_CPD(DAG)"
   ]
  },
  {
   "cell_type": "code",
   "execution_count": 13,
   "metadata": {},
   "outputs": [
    {
     "name": "stdout",
     "output_type": "stream",
     "text": [
      "[BNLEARN.print_CPD] Independencies:\n",
      "(smoke _|_ covid)\n",
      "(covid _|_ smoke)\n",
      "[BNLEARN.print_CPD] Nodes: ['smoke', 'hospital', 'covid']\n",
      "[BNLEARN.print_CPD] Edges: [('smoke', 'hospital'), ('covid', 'hospital')]\n",
      "CPD of smoke:\n",
      "+------------+------+\n",
      "| smoke(yes) | 0.25 |\n",
      "+------------+------+\n",
      "| smoke(no)  | 0.75 |\n",
      "+------------+------+\n",
      "CPD of covid:\n",
      "+------------+-----+\n",
      "| covid(yes) | 0.1 |\n",
      "+------------+-----+\n",
      "| covid(no)  | 0.9 |\n",
      "+------------+-----+\n",
      "CPD of hospital:\n",
      "+---------------+------------+------------+------------+-----------+\n",
      "| smoke         | smoke(yes) | smoke(yes) | smoke(no)  | smoke(no) |\n",
      "+---------------+------------+------------+------------+-----------+\n",
      "| covid         | covid(yes) | covid(no)  | covid(yes) | covid(no) |\n",
      "+---------------+------------+------------+------------+-----------+\n",
      "| hospital(yes) | 0.9        | 0.1        | 0.9        | 0.01      |\n",
      "+---------------+------------+------------+------------+-----------+\n",
      "| hospital(no)  | 0.1        | 0.9        | 0.1        | 0.99      |\n",
      "+---------------+------------+------------+------------+-----------+\n"
     ]
    }
   ],
   "source": [
    "bnlearn.print_CPD(DAG)"
   ]
  },
  {
   "cell_type": "markdown",
   "metadata": {},
   "source": [
    "### Sanity check\n",
    "Probability you have covid depending on if you are a smoker or non-smoker. These should be equal as our Bayes Net specifies that smoking and covid are independent."
   ]
  },
  {
   "cell_type": "code",
   "execution_count": 14,
   "metadata": {},
   "outputs": [
    {
     "name": "stderr",
     "output_type": "stream",
     "text": [
      "Finding Elimination Order: : 100%|██████████| 1/1 [00:00<00:00, 558.05it/s]\n",
      "Eliminating: covid: 100%|██████████| 1/1 [00:00<00:00, 253.55it/s]"
     ]
    },
    {
     "name": "stdout",
     "output_type": "stream",
     "text": [
      "[BNLEARN][inference] Variable Elimination..\n",
      "+---------------+-----------------+\n",
      "| hospital      |   phi(hospital) |\n",
      "+===============+=================+\n",
      "| hospital(yes) |          0.1800 |\n",
      "+---------------+-----------------+\n",
      "| hospital(no)  |          0.8200 |\n",
      "+---------------+-----------------+\n"
     ]
    },
    {
     "name": "stderr",
     "output_type": "stream",
     "text": [
      "\n"
     ]
    }
   ],
   "source": [
    "q1 = bnlearn.inference.fit(DAG, variables=['hospital'], evidence={'smoke': 'yes'})"
   ]
  },
  {
   "cell_type": "markdown",
   "metadata": {},
   "source": [
    "### Calculate P(covid|smoking, hospital) and P(covid|¬smoking, hospital)\n",
    "\n",
    "If you condition upon being in hospital (ie only observer people who are in hospital), then it might be that we see different probabilities of having covid based on whether you smoke or not."
   ]
  },
  {
   "cell_type": "code",
   "execution_count": 15,
   "metadata": {},
   "outputs": [
    {
     "name": "stderr",
     "output_type": "stream",
     "text": [
      "Finding Elimination Order: : : 0it [00:00, ?it/s]\n",
      "0it [00:00, ?it/s]"
     ]
    },
    {
     "name": "stdout",
     "output_type": "stream",
     "text": [
      "[BNLEARN][inference] Variable Elimination..\n",
      "+------------+--------------+\n",
      "| covid      |   phi(covid) |\n",
      "+============+==============+\n",
      "| covid(yes) |       0.5000 |\n",
      "+------------+--------------+\n",
      "| covid(no)  |       0.5000 |\n",
      "+------------+--------------+\n"
     ]
    },
    {
     "name": "stderr",
     "output_type": "stream",
     "text": [
      "\n"
     ]
    }
   ],
   "source": [
    "q2 = bnlearn.inference.fit(DAG, variables=['covid'], evidence={'smoke': 'yes', 'hospital': 'yes'})"
   ]
  },
  {
   "cell_type": "code",
   "execution_count": 16,
   "metadata": {},
   "outputs": [
    {
     "name": "stderr",
     "output_type": "stream",
     "text": [
      "Finding Elimination Order: : : 0it [00:00, ?it/s]\n",
      "0it [00:00, ?it/s]"
     ]
    },
    {
     "name": "stdout",
     "output_type": "stream",
     "text": [
      "[BNLEARN][inference] Variable Elimination..\n",
      "+------------+--------------+\n",
      "| covid      |   phi(covid) |\n",
      "+============+==============+\n",
      "| covid(yes) |       0.9091 |\n",
      "+------------+--------------+\n",
      "| covid(no)  |       0.0909 |\n",
      "+------------+--------------+\n"
     ]
    },
    {
     "name": "stderr",
     "output_type": "stream",
     "text": [
      "\n"
     ]
    }
   ],
   "source": [
    "q2 = bnlearn.inference.fit(DAG, variables=['covid'], evidence={'smoke': 'no', 'hospital': 'yes'})"
   ]
  },
  {
   "cell_type": "markdown",
   "metadata": {},
   "source": [
    "Confirmed.\n",
    "\n",
    "Boom! There we have it. There is a _higher_ chance that you will have Covid-19 if you are a _non-smoker_ in hospital, then if you are a smoker in hospital. And this result is produced by a Bayesian Net which explicitly states that having covid is statistically independent from being a smoker.\n",
    "\n",
    "This is not necessarily proof that nicotine is useless against covid. But it does show that somewhat perplexing epidemiological results should not be taken as sufficient evidence that nicotine is protective against covid."
   ]
  },
  {
   "cell_type": "code",
   "execution_count": null,
   "metadata": {},
   "outputs": [],
   "source": []
  }
 ],
 "metadata": {
  "kernelspec": {
   "display_name": "Python 3",
   "language": "python",
   "name": "python3"
  },
  "language_info": {
   "codemirror_mode": {
    "name": "ipython",
    "version": 3
   },
   "file_extension": ".py",
   "mimetype": "text/x-python",
   "name": "python",
   "nbconvert_exporter": "python",
   "pygments_lexer": "ipython3",
   "version": "3.7.4"
  }
 },
 "nbformat": 4,
 "nbformat_minor": 4
}
