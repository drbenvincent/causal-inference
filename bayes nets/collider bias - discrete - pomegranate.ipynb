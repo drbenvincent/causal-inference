{
 "cells": [
  {
   "cell_type": "markdown",
   "metadata": {},
   "source": [
    "# Exploration of Collider Bias with discrete Bayes Nets using `pomegranate`\n",
    "\n",
    "## Collider bias\n",
    "[Collider bias](https://en.wikipedia.org/wiki/Collider_(statistics) ) can be seen as a form of selection bias. In a causal network, if we have the structure `A -> Collider <- B`, then \"conditioning on the collider opens the path between A and B [which can] introduce bias when estimating the causal association between A and B, potentially introducing associations where there are none.\"\n",
    "\n",
    "## The `pomegranate` package\n",
    "Here we use the Python package [pomegranate](https://pomegranate.readthedocs.io/en/latest/) (GitHub repo [here](https://github.com/jmschrei/pomegranate)). It allows us to specify a Bayesian Net structure, along with the conditional probability distributions. Amongst other things, we can  query the net, conditional upon certain observations."
   ]
  },
  {
   "cell_type": "code",
   "execution_count": 1,
   "metadata": {},
   "outputs": [],
   "source": [
    "import pomegranate as pg"
   ]
  },
  {
   "cell_type": "markdown",
   "metadata": {},
   "source": [
    "# Example 2: Does collider bias make it look like nicotine is protective of COVID\n",
    "\n",
    "![](img/bayes_net_1.png)\n",
    "\n",
    "Here we have a prior probability of 25% of being a smoker. **Independently**, there is a 10% prior probability of having Covid-19. The vector `[0.9, 0.1, 0.9, 0.01]` specifies the probability of being in hospital as a function of smoking and covid status:\n",
    "\n",
    "- smoking, covid. High probability of being in hospital.\n",
    "- smoking, ¬covid. Moderate probability of being in hospital\n",
    "- ¬smoking, covid. High probability of being in hospital\n",
    "- ¬smoking, ¬covid. Low probability of being in hospital\n",
    "\n",
    "One of the key points here is that of people who do not have covid, smokers are expected to have a higher probability of being in hospital than non-smokers."
   ]
  },
  {
   "cell_type": "code",
   "execution_count": 2,
   "metadata": {},
   "outputs": [],
   "source": [
    "smokeD = pg.DiscreteDistribution({'yes': 0.25, 'no': 0.75})\n",
    "covidD = pg.DiscreteDistribution({'yes': 0.1, 'no': 0.9})\n",
    "hospitalD = pg.ConditionalProbabilityTable(\n",
    "    [['yes', 'yes', 'yes', 0.9], ['yes', 'yes', 'no', 0.1],\n",
    "     ['yes', 'no', 'yes', 0.1], ['yes', 'no', 'no', 0.9],\n",
    "     ['no', 'yes', 'yes', 0.9], ['no', 'yes', 'no', 0.1],\n",
    "     ['no', 'no', 'yes', 0.01], ['no', 'no', 'no', 0.99]],\n",
    "    [smokeD, covidD])\n",
    "\n",
    "smoke = pg.Node(smokeD, name=\"smokeD\")\n",
    "covid = pg.Node(covidD, name=\"covidD\")\n",
    "hospital = pg.Node(hospitalD, name=\"hospitalD\")\n",
    "\n",
    "model = pg.BayesianNetwork(\"Covid Collider\")\n",
    "model.add_states(smoke, covid, hospital)\n",
    "model.add_edge(smoke, hospital)\n",
    "model.add_edge(covid, hospital)\n",
    "model.bake()"
   ]
  },
  {
   "cell_type": "markdown",
   "metadata": {},
   "source": [
    "### Sanity check\n",
    "Probability you have covid depending on if you are a smoker or non-smoker. These should be equal as our Bayes Net specifies that smoking and covid are independent."
   ]
  },
  {
   "cell_type": "code",
   "execution_count": 3,
   "metadata": {},
   "outputs": [],
   "source": [
    "beliefs = model.predict_proba({'smokeD': 'yes'})"
   ]
  },
  {
   "cell_type": "code",
   "execution_count": 4,
   "metadata": {},
   "outputs": [
    {
     "ename": "ValueError",
     "evalue": "must have pygraphviz installed for visualization",
     "output_type": "error",
     "traceback": [
      "\u001b[0;31m---------------------------------------------------------------------------\u001b[0m",
      "\u001b[0;31mValueError\u001b[0m                                Traceback (most recent call last)",
      "\u001b[0;32m<ipython-input-4-24bd70afb218>\u001b[0m in \u001b[0;36m<module>\u001b[0;34m\u001b[0m\n\u001b[0;32m----> 1\u001b[0;31m \u001b[0mmodel\u001b[0m\u001b[0;34m.\u001b[0m\u001b[0mplot\u001b[0m\u001b[0;34m(\u001b[0m\u001b[0;34m)\u001b[0m\u001b[0;34m\u001b[0m\u001b[0;34m\u001b[0m\u001b[0m\n\u001b[0m",
      "\u001b[0;32m/anaconda3/lib/python3.7/site-packages/pomegranate/BayesianNetwork.pyx\u001b[0m in \u001b[0;36mpomegranate.BayesianNetwork.BayesianNetwork.plot\u001b[0;34m()\u001b[0m\n",
      "\u001b[0;31mValueError\u001b[0m: must have pygraphviz installed for visualization"
     ]
    }
   ],
   "source": [
    "model.plot()"
   ]
  },
  {
   "cell_type": "code",
   "execution_count": 5,
   "metadata": {},
   "outputs": [
    {
     "name": "stdout",
     "output_type": "stream",
     "text": [
      "smokeD\tyes\n",
      "covidD\t{\n",
      "    \"class\" :\"Distribution\",\n",
      "    \"dtype\" :\"str\",\n",
      "    \"name\" :\"DiscreteDistribution\",\n",
      "    \"parameters\" :[\n",
      "        {\n",
      "            \"yes\" :0.10000000000000035,\n",
      "            \"no\" :0.8999999999999996\n",
      "        }\n",
      "    ],\n",
      "    \"frozen\" :false\n",
      "}\n",
      "hospitalD\t{\n",
      "    \"class\" :\"Distribution\",\n",
      "    \"dtype\" :\"str\",\n",
      "    \"name\" :\"DiscreteDistribution\",\n",
      "    \"parameters\" :[\n",
      "        {\n",
      "            \"no\" :0.8199999999999997,\n",
      "            \"yes\" :0.18000000000000022\n",
      "        }\n",
      "    ],\n",
      "    \"frozen\" :false\n",
      "}\n"
     ]
    }
   ],
   "source": [
    "beliefs = map(str, beliefs)\n",
    "\n",
    "print(\"\\n\".join(\"{}\\t{}\".format(state.name, belief) \n",
    "                for state, belief, in zip(model.states, beliefs) ))"
   ]
  },
  {
   "cell_type": "markdown",
   "metadata": {},
   "source": [
    "### Calculate P(covid|smoking, hospital) and P(covid|¬smoking, hospital)\n",
    "\n",
    "If you condition upon being in hospital (ie only observer people who are in hospital), then it might be that we see different probabilities of having covid based on whether you smoke or not."
   ]
  },
  {
   "cell_type": "code",
   "execution_count": 6,
   "metadata": {},
   "outputs": [
    {
     "data": {
      "text/plain": [
       "array(['yes',\n",
       "       {\n",
       "    \"class\" :\"Distribution\",\n",
       "    \"dtype\" :\"str\",\n",
       "    \"name\" :\"DiscreteDistribution\",\n",
       "    \"parameters\" :[\n",
       "        {\n",
       "            \"yes\" :0.5000000000000006,\n",
       "            \"no\" :0.4999999999999994\n",
       "        }\n",
       "    ],\n",
       "    \"frozen\" :false\n",
       "},\n",
       "       'yes'], dtype=object)"
      ]
     },
     "execution_count": 6,
     "metadata": {},
     "output_type": "execute_result"
    }
   ],
   "source": [
    "model.predict_proba({'smokeD': 'yes', 'hospitalD': 'yes'})"
   ]
  },
  {
   "cell_type": "code",
   "execution_count": 7,
   "metadata": {},
   "outputs": [
    {
     "data": {
      "text/plain": [
       "array(['no',\n",
       "       {\n",
       "    \"class\" :\"Distribution\",\n",
       "    \"dtype\" :\"str\",\n",
       "    \"name\" :\"DiscreteDistribution\",\n",
       "    \"parameters\" :[\n",
       "        {\n",
       "            \"yes\" :0.9090909090909077,\n",
       "            \"no\" :0.09090909090909226\n",
       "        }\n",
       "    ],\n",
       "    \"frozen\" :false\n",
       "},\n",
       "       'yes'], dtype=object)"
      ]
     },
     "execution_count": 7,
     "metadata": {},
     "output_type": "execute_result"
    }
   ],
   "source": [
    "model.predict_proba({'smokeD': 'no', 'hospitalD': 'yes'})"
   ]
  },
  {
   "cell_type": "markdown",
   "metadata": {},
   "source": [
    "Confirmed.\n",
    "\n",
    "Boom! There we have it. There is a _higher_ chance that you will have Covid-19 if you are a _non-smoker_ in hospital, then if you are a smoker in hospital. And this result is produced by a Bayesian Net which explicitly states that having covid is statistically independent from being a smoker.\n",
    "\n",
    "This is not necessarily proof that nicotine is useless against covid. But it does show that somewhat perplexing epidemiological results should not be taken as sufficient evidence that nicotine is protective against covid."
   ]
  },
  {
   "cell_type": "code",
   "execution_count": null,
   "metadata": {},
   "outputs": [],
   "source": []
  }
 ],
 "metadata": {
  "kernelspec": {
   "display_name": "Python 3",
   "language": "python",
   "name": "python3"
  },
  "language_info": {
   "codemirror_mode": {
    "name": "ipython",
    "version": 3
   },
   "file_extension": ".py",
   "mimetype": "text/x-python",
   "name": "python",
   "nbconvert_exporter": "python",
   "pygments_lexer": "ipython3",
   "version": "3.7.4"
  }
 },
 "nbformat": 4,
 "nbformat_minor": 4
}
