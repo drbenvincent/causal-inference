{
 "cells": [
  {
   "cell_type": "markdown",
   "metadata": {},
   "source": [
    "# Cycling example\n",
    "\n",
    "Does cycling influence prostate cancer?"
   ]
  },
  {
   "cell_type": "code",
   "execution_count": null,
   "metadata": {},
   "outputs": [],
   "source": []
  },
  {
   "cell_type": "markdown",
   "metadata": {},
   "source": [
    "Install packages at command line with:\n",
    "\n",
    "    pip install bnlearn\n",
    "    conda install -c ankurankan pgmpy"
   ]
  },
  {
   "cell_type": "code",
   "execution_count": 1,
   "metadata": {},
   "outputs": [],
   "source": [
    "import bnlearn\n",
    "from pgmpy.factors.discrete import TabularCPD"
   ]
  },
  {
   "cell_type": "code",
   "execution_count": 2,
   "metadata": {},
   "outputs": [
    {
     "data": {
      "text/plain": [
       "'0.3.6'"
      ]
     },
     "execution_count": 2,
     "metadata": {},
     "output_type": "execute_result"
    }
   ],
   "source": [
    "bnlearn.__version__"
   ]
  },
  {
   "cell_type": "code",
   "execution_count": 3,
   "metadata": {},
   "outputs": [],
   "source": [
    "# pgmpy.__version__"
   ]
  },
  {
   "cell_type": "markdown",
   "metadata": {},
   "source": [
    "## Example where cyling _is protective_ against prostate cancer."
   ]
  },
  {
   "cell_type": "code",
   "execution_count": 4,
   "metadata": {},
   "outputs": [],
   "source": [
    "def model_cycling_protective():\n",
    "    # Define the network structure\n",
    "    edges = [('cycle', 'prostate'),\n",
    "             ('cycle', 'in_survey'),\n",
    "             ('prostate', 'in_survey')]\n",
    "\n",
    "    # Make the actual Bayesian DAG\n",
    "    DAG = bnlearn.make_DAG(edges)\n",
    "    \n",
    "    cpt_cycle = TabularCPD(variable='cycle', \n",
    "                       variable_card=2, \n",
    "                       values=[[0.1], [0.9]],\n",
    "                       state_names={'cycle': ['yes', 'no']})\n",
    "\n",
    "    cpt_prostate = TabularCPD(variable='prostate', variable_card=2,\n",
    "                              values=[[0.05, 0.15],\n",
    "                                      [0.95, 0.85]],\n",
    "                              evidence=['cycle'], evidence_card=[2], \n",
    "                              state_names={'cycle': ['yes', 'no'], \n",
    "                                           'prostate': ['yes', 'no']})\n",
    "\n",
    "    cpt_in_survey = TabularCPD(variable='in_survey', variable_card=2,\n",
    "    #                            values=[[0.04, 0.02, 0.001, 0.001],\n",
    "    #                                    [0.96, 0.98, 0.999, 0.999]],\n",
    "                               values=[[0.005, 0.02, 0.001, 0.001],\n",
    "                                       [0.995, 0.98, 0.999, 0.999]],\n",
    "                               evidence=['cycle', 'prostate'],\n",
    "                               evidence_card=[2, 2],\n",
    "                               state_names={'cycle': ['yes', 'no'], \n",
    "                                            'prostate': ['yes', 'no'], \n",
    "                                            'in_survey': ['yes', 'no']})\n",
    "    \n",
    "    DAG = bnlearn.make_DAG(DAG, CPD=[cpt_cycle, cpt_prostate, cpt_in_survey])\n",
    "    return DAG"
   ]
  },
  {
   "cell_type": "code",
   "execution_count": 5,
   "metadata": {},
   "outputs": [],
   "source": [
    "def model_cycling_unrelated():\n",
    "    # Define the network structure\n",
    "    edges = [('cycle', 'in_survey'),\n",
    "             ('prostate', 'in_survey')]\n",
    "\n",
    "    # Make the actual Bayesian DAG\n",
    "    DAG = bnlearn.make_DAG(edges)\n",
    "    \n",
    "    cpt_cycle = TabularCPD(variable='cycle', \n",
    "                       variable_card=2, \n",
    "                       values=[[0.1], [0.9]],\n",
    "                       state_names={'cycle': ['yes', 'no']})\n",
    "\n",
    "    cpt_prostate = TabularCPD(variable='prostate', \n",
    "                           variable_card=2, \n",
    "                           values=[[0.1], [0.9]],\n",
    "                           state_names={'prostate': ['yes', 'no']})\n",
    "\n",
    "    cpt_in_survey = TabularCPD(variable='in_survey', variable_card=2,\n",
    "                               values=[[0.005, 0.02, 0.001, 0.001],\n",
    "                                       [0.995, 0.98, 0.999, 0.999]],\n",
    "                               evidence=['cycle', 'prostate'],\n",
    "                               evidence_card=[2, 2],\n",
    "                               state_names={'cycle': ['yes', 'no'], \n",
    "                                            'prostate': ['yes', 'no'], \n",
    "                                            'in_survey': ['yes', 'no']})\n",
    "    \n",
    "    DAG = bnlearn.make_DAG(DAG, CPD=[cpt_cycle, cpt_prostate, cpt_in_survey])\n",
    "    return DAG"
   ]
  },
  {
   "cell_type": "code",
   "execution_count": 6,
   "metadata": {},
   "outputs": [],
   "source": [
    "def model_cycling_damaging():\n",
    "    # Define the network structure\n",
    "    edges = [('cycle', 'prostate'),\n",
    "             ('cycle', 'in_survey'),\n",
    "             ('prostate', 'in_survey')]\n",
    "\n",
    "    # Make the actual Bayesian DAG\n",
    "    DAG = bnlearn.make_DAG(edges)\n",
    "    \n",
    "    cpt_cycle = TabularCPD(variable='cycle', \n",
    "                       variable_card=2, \n",
    "                       values=[[0.1], [0.9]],\n",
    "                       state_names={'cycle': ['yes', 'no']})\n",
    "\n",
    "    cpt_prostate = TabularCPD(variable='prostate', variable_card=2,\n",
    "                              values=[[0.15, 0.10],\n",
    "                                      [0.85, 0.90]],\n",
    "                              evidence=['cycle'], evidence_card=[2], \n",
    "                              state_names={'cycle': ['yes', 'no'], \n",
    "                                           'prostate': ['yes', 'no']})\n",
    "\n",
    "    cpt_in_survey = TabularCPD(variable='in_survey', variable_card=2,\n",
    "                               values=[[0.005, 0.02, 0.001, 0.001],\n",
    "                                       [0.995, 0.98, 0.999, 0.999]],\n",
    "                               evidence=['cycle', 'prostate'],\n",
    "                               evidence_card=[2, 2],\n",
    "                               state_names={'cycle': ['yes', 'no'], \n",
    "                                            'prostate': ['yes', 'no'], \n",
    "                                            'in_survey': ['yes', 'no']})\n",
    "\n",
    "    DAG = bnlearn.make_DAG(DAG, CPD=[cpt_cycle, cpt_prostate, cpt_in_survey])\n",
    "    return DAG"
   ]
  },
  {
   "cell_type": "markdown",
   "metadata": {},
   "source": [
    "Function to query the models"
   ]
  },
  {
   "cell_type": "code",
   "execution_count": 7,
   "metadata": {},
   "outputs": [],
   "source": [
    "def make_queries(DAG):\n",
    "    q1 = bnlearn.inference.fit(DAG, variables=['prostate'], evidence={})\n",
    "    q2 = bnlearn.inference.fit(DAG, variables=['prostate'], evidence={'in_survey': 'yes'})\n",
    "    q3 = bnlearn.inference.fit(DAG, variables=['prostate'], evidence={'in_survey': 'yes', 'cycle': 'yes'})\n",
    "    \n",
    "    print(f\"P(prostate) = {q1.values[0]*100:.1f}%\")\n",
    "    print(f\"P(prostate|in survey) = {q2.values[0]*100:.1f}%\")\n",
    "    print(f\"P(prostate|in survey, cycle) = {q3.values[0]*100:.1f}%\")"
   ]
  },
  {
   "cell_type": "markdown",
   "metadata": {},
   "source": [
    "Build and check the models"
   ]
  },
  {
   "cell_type": "code",
   "execution_count": 8,
   "metadata": {},
   "outputs": [
    {
     "name": "stdout",
     "output_type": "stream",
     "text": [
      "[BNLEARN] Bayesian DAG created.\n",
      "[BNLEARN] No changes made to existing Bayesian DAG.\n",
      "[BNLEARN] Add CPD: cycle\n",
      "[BNLEARN] Add CPD: prostate\n",
      "[BNLEARN] Add CPD: in_survey\n",
      "[BNLEARN.print_CPD] Model correct: True\n",
      "[BNLEARN.print_CPD] Independencies:\n",
      "\n",
      "[BNLEARN.print_CPD] Nodes: ['cycle', 'prostate', 'in_survey']\n",
      "[BNLEARN.print_CPD] Edges: [('cycle', 'prostate'), ('cycle', 'in_survey'), ('prostate', 'in_survey')]\n",
      "CPD of cycle:\n",
      "+------------+-----+\n",
      "| cycle(yes) | 0.1 |\n",
      "+------------+-----+\n",
      "| cycle(no)  | 0.9 |\n",
      "+------------+-----+\n",
      "CPD of prostate:\n",
      "+---------------+------------+-----------+\n",
      "| cycle         | cycle(yes) | cycle(no) |\n",
      "+---------------+------------+-----------+\n",
      "| prostate(yes) | 0.05       | 0.15      |\n",
      "+---------------+------------+-----------+\n",
      "| prostate(no)  | 0.95       | 0.85      |\n",
      "+---------------+------------+-----------+\n",
      "CPD of in_survey:\n",
      "+----------------+---------------+--------------+---------------+--------------+\n",
      "| cycle          | cycle(yes)    | cycle(yes)   | cycle(no)     | cycle(no)    |\n",
      "+----------------+---------------+--------------+---------------+--------------+\n",
      "| prostate       | prostate(yes) | prostate(no) | prostate(yes) | prostate(no) |\n",
      "+----------------+---------------+--------------+---------------+--------------+\n",
      "| in_survey(yes) | 0.005         | 0.02         | 0.001         | 0.001        |\n",
      "+----------------+---------------+--------------+---------------+--------------+\n",
      "| in_survey(no)  | 0.995         | 0.98         | 0.999         | 0.999        |\n",
      "+----------------+---------------+--------------+---------------+--------------+\n"
     ]
    }
   ],
   "source": [
    "DAG_proctective = model_cycling_protective()\n",
    "bnlearn.print_CPD(DAG_proctective)"
   ]
  },
  {
   "cell_type": "code",
   "execution_count": 9,
   "metadata": {},
   "outputs": [
    {
     "name": "stdout",
     "output_type": "stream",
     "text": [
      "[BNLEARN] Bayesian DAG created.\n",
      "[BNLEARN] No changes made to existing Bayesian DAG.\n",
      "[BNLEARN] Add CPD: cycle\n",
      "[BNLEARN] Add CPD: prostate\n",
      "[BNLEARN] Add CPD: in_survey\n",
      "[BNLEARN.print_CPD] Model correct: True\n",
      "[BNLEARN.print_CPD] Independencies:\n",
      "(cycle _|_ prostate)\n",
      "(prostate _|_ cycle)\n",
      "[BNLEARN.print_CPD] Nodes: ['cycle', 'in_survey', 'prostate']\n",
      "[BNLEARN.print_CPD] Edges: [('cycle', 'in_survey'), ('prostate', 'in_survey')]\n",
      "CPD of cycle:\n",
      "+------------+-----+\n",
      "| cycle(yes) | 0.1 |\n",
      "+------------+-----+\n",
      "| cycle(no)  | 0.9 |\n",
      "+------------+-----+\n",
      "CPD of prostate:\n",
      "+---------------+-----+\n",
      "| prostate(yes) | 0.1 |\n",
      "+---------------+-----+\n",
      "| prostate(no)  | 0.9 |\n",
      "+---------------+-----+\n",
      "CPD of in_survey:\n",
      "+----------------+---------------+--------------+---------------+--------------+\n",
      "| cycle          | cycle(yes)    | cycle(yes)   | cycle(no)     | cycle(no)    |\n",
      "+----------------+---------------+--------------+---------------+--------------+\n",
      "| prostate       | prostate(yes) | prostate(no) | prostate(yes) | prostate(no) |\n",
      "+----------------+---------------+--------------+---------------+--------------+\n",
      "| in_survey(yes) | 0.005         | 0.02         | 0.001         | 0.001        |\n",
      "+----------------+---------------+--------------+---------------+--------------+\n",
      "| in_survey(no)  | 0.995         | 0.98         | 0.999         | 0.999        |\n",
      "+----------------+---------------+--------------+---------------+--------------+\n"
     ]
    }
   ],
   "source": [
    "DAG_unrelated = model_cycling_unrelated()\n",
    "bnlearn.print_CPD(DAG_unrelated)"
   ]
  },
  {
   "cell_type": "code",
   "execution_count": 10,
   "metadata": {},
   "outputs": [
    {
     "name": "stdout",
     "output_type": "stream",
     "text": [
      "[BNLEARN] Bayesian DAG created.\n",
      "[BNLEARN] No changes made to existing Bayesian DAG.\n",
      "[BNLEARN] Add CPD: cycle\n",
      "[BNLEARN] Add CPD: prostate\n",
      "[BNLEARN] Add CPD: in_survey\n",
      "[BNLEARN.print_CPD] Model correct: True\n",
      "[BNLEARN.print_CPD] Independencies:\n",
      "\n",
      "[BNLEARN.print_CPD] Nodes: ['cycle', 'prostate', 'in_survey']\n",
      "[BNLEARN.print_CPD] Edges: [('cycle', 'prostate'), ('cycle', 'in_survey'), ('prostate', 'in_survey')]\n",
      "CPD of cycle:\n",
      "+------------+-----+\n",
      "| cycle(yes) | 0.1 |\n",
      "+------------+-----+\n",
      "| cycle(no)  | 0.9 |\n",
      "+------------+-----+\n",
      "CPD of prostate:\n",
      "+---------------+------------+-----------+\n",
      "| cycle         | cycle(yes) | cycle(no) |\n",
      "+---------------+------------+-----------+\n",
      "| prostate(yes) | 0.15       | 0.1       |\n",
      "+---------------+------------+-----------+\n",
      "| prostate(no)  | 0.85       | 0.9       |\n",
      "+---------------+------------+-----------+\n",
      "CPD of in_survey:\n",
      "+----------------+---------------+--------------+---------------+--------------+\n",
      "| cycle          | cycle(yes)    | cycle(yes)   | cycle(no)     | cycle(no)    |\n",
      "+----------------+---------------+--------------+---------------+--------------+\n",
      "| prostate       | prostate(yes) | prostate(no) | prostate(yes) | prostate(no) |\n",
      "+----------------+---------------+--------------+---------------+--------------+\n",
      "| in_survey(yes) | 0.005         | 0.02         | 0.001         | 0.001        |\n",
      "+----------------+---------------+--------------+---------------+--------------+\n",
      "| in_survey(no)  | 0.995         | 0.98         | 0.999         | 0.999        |\n",
      "+----------------+---------------+--------------+---------------+--------------+\n"
     ]
    }
   ],
   "source": [
    "DAG_damaging = model_cycling_damaging()\n",
    "bnlearn.print_CPD(DAG_damaging)"
   ]
  },
  {
   "cell_type": "code",
   "execution_count": 11,
   "metadata": {},
   "outputs": [
    {
     "name": "stderr",
     "output_type": "stream",
     "text": [
      "/Users/btvincent/opt/anaconda3/lib/python3.7/site-packages/numpy/lib/arraysetops.py:569: FutureWarning: elementwise comparison failed; returning scalar instead, but in the future will perform elementwise comparison\n",
      "  mask |= (ar1 == a)\n",
      "Finding Elimination Order: : 100%|██████████| 2/2 [00:00<00:00, 1129.32it/s]\n",
      "Eliminating: cycle: 100%|██████████| 2/2 [00:00<00:00, 422.58it/s]\n",
      "Finding Elimination Order: : 100%|██████████| 1/1 [00:00<00:00, 890.51it/s]\n",
      "Eliminating: cycle: 100%|██████████| 1/1 [00:00<00:00, 500.22it/s]\n",
      "Finding Elimination Order: : : 0it [00:00, ?it/s]\n",
      "0it [00:00, ?it/s]"
     ]
    },
    {
     "name": "stdout",
     "output_type": "stream",
     "text": [
      "[BNLEARN][inference] Variable Elimination..\n",
      "+---------------+-----------------+\n",
      "| prostate      |   phi(prostate) |\n",
      "+===============+=================+\n",
      "| prostate(yes) |          0.1400 |\n",
      "+---------------+-----------------+\n",
      "| prostate(no)  |          0.8600 |\n",
      "+---------------+-----------------+\n",
      "[BNLEARN][inference] Variable Elimination..\n",
      "+---------------+-----------------+\n",
      "| prostate      |   phi(prostate) |\n",
      "+===============+=================+\n",
      "| prostate(yes) |          0.0566 |\n",
      "+---------------+-----------------+\n",
      "| prostate(no)  |          0.9434 |\n",
      "+---------------+-----------------+\n",
      "[BNLEARN][inference] Variable Elimination..\n",
      "+---------------+-----------------+\n",
      "| prostate      |   phi(prostate) |\n",
      "+===============+=================+\n",
      "| prostate(yes) |          0.0130 |\n",
      "+---------------+-----------------+\n",
      "| prostate(no)  |          0.9870 |\n",
      "+---------------+-----------------+\n",
      "P(prostate) = 14.0%\n",
      "P(prostate|in survey) = 5.7%\n",
      "P(prostate|in survey, cycle) = 1.3%\n"
     ]
    },
    {
     "name": "stderr",
     "output_type": "stream",
     "text": [
      "\n"
     ]
    }
   ],
   "source": [
    "make_queries(DAG_proctective)"
   ]
  },
  {
   "cell_type": "markdown",
   "metadata": {},
   "source": [
    "This model assumes cycling _does_ decrease risk of prostate cancer in respondents. And you observe a lower incidence (than in general population) of prostance cancer in your respondents, and an even lower incidence in those who cycle. This all makes sense.\n",
    "\n",
    "But the question is - Can we observe lower incidents of prostate cancer in respondents (than in the general population) if there cycling and prostate cancer are unrelated OR if cycling does increase the risk of prostate cancer?"
   ]
  },
  {
   "cell_type": "code",
   "execution_count": 12,
   "metadata": {},
   "outputs": [
    {
     "name": "stderr",
     "output_type": "stream",
     "text": [
      "Finding Elimination Order: : 100%|██████████| 2/2 [00:00<00:00, 556.90it/s]\n",
      "Eliminating: cycle: 100%|██████████| 2/2 [00:00<00:00, 333.73it/s]\n",
      "Finding Elimination Order: : 100%|██████████| 1/1 [00:00<00:00, 911.41it/s]\n",
      "Eliminating: cycle: 100%|██████████| 1/1 [00:00<00:00, 567.56it/s]\n",
      "Finding Elimination Order: : : 0it [00:00, ?it/s]\n",
      "0it [00:00, ?it/s]"
     ]
    },
    {
     "name": "stdout",
     "output_type": "stream",
     "text": [
      "[BNLEARN][inference] Variable Elimination..\n",
      "+---------------+-----------------+\n",
      "| prostate      |   phi(prostate) |\n",
      "+===============+=================+\n",
      "| prostate(yes) |          0.1000 |\n",
      "+---------------+-----------------+\n",
      "| prostate(no)  |          0.9000 |\n",
      "+---------------+-----------------+\n",
      "[BNLEARN][inference] Variable Elimination..\n",
      "+---------------+-----------------+\n",
      "| prostate      |   phi(prostate) |\n",
      "+===============+=================+\n",
      "| prostate(yes) |          0.0509 |\n",
      "+---------------+-----------------+\n",
      "| prostate(no)  |          0.9491 |\n",
      "+---------------+-----------------+\n",
      "[BNLEARN][inference] Variable Elimination..\n",
      "+---------------+-----------------+\n",
      "| prostate      |   phi(prostate) |\n",
      "+===============+=================+\n",
      "| prostate(yes) |          0.0270 |\n",
      "+---------------+-----------------+\n",
      "| prostate(no)  |          0.9730 |\n",
      "+---------------+-----------------+\n",
      "P(prostate) = 10.0%\n",
      "P(prostate|in survey) = 5.1%\n",
      "P(prostate|in survey, cycle) = 2.7%\n"
     ]
    },
    {
     "name": "stderr",
     "output_type": "stream",
     "text": [
      "\n"
     ]
    }
   ],
   "source": [
    "make_queries(DAG_unrelated)"
   ]
  },
  {
   "cell_type": "markdown",
   "metadata": {},
   "source": [
    "In this model, cycling does not influence the risk of prostate cancer, but those with prostate cancer are less likely to complete the survey than those without.\n",
    "\n",
    "We see the same pattern of results: Lower incidence of prostate cancer in the survey overall, and an even lower incidence of cyclists in the survey.\n",
    "\n",
    "This is concerning! But can we still observe lower incidents of prostate cancer in respondents even if cycling does increase the risk of prostate cancer?"
   ]
  },
  {
   "cell_type": "code",
   "execution_count": 13,
   "metadata": {},
   "outputs": [
    {
     "name": "stderr",
     "output_type": "stream",
     "text": [
      "Finding Elimination Order: : 100%|██████████| 2/2 [00:00<00:00, 1194.79it/s]\n",
      "Eliminating: cycle: 100%|██████████| 2/2 [00:00<00:00, 443.75it/s]\n",
      "Finding Elimination Order: : 100%|██████████| 1/1 [00:00<00:00, 1007.04it/s]\n",
      "Eliminating: cycle: 100%|██████████| 1/1 [00:00<00:00, 90.99it/s]\n",
      "Finding Elimination Order: : : 0it [00:00, ?it/s]\n",
      "0it [00:00, ?it/s]"
     ]
    },
    {
     "name": "stdout",
     "output_type": "stream",
     "text": [
      "[BNLEARN][inference] Variable Elimination..\n",
      "+---------------+-----------------+\n",
      "| prostate      |   phi(prostate) |\n",
      "+===============+=================+\n",
      "| prostate(yes) |          0.1050 |\n",
      "+---------------+-----------------+\n",
      "| prostate(no)  |          0.8950 |\n",
      "+---------------+-----------------+\n",
      "[BNLEARN][inference] Variable Elimination..\n",
      "+---------------+-----------------+\n",
      "| prostate      |   phi(prostate) |\n",
      "+===============+=================+\n",
      "| prostate(yes) |          0.0617 |\n",
      "+---------------+-----------------+\n",
      "| prostate(no)  |          0.9383 |\n",
      "+---------------+-----------------+\n",
      "[BNLEARN][inference] Variable Elimination..\n",
      "+---------------+-----------------+\n",
      "| prostate      |   phi(prostate) |\n",
      "+===============+=================+\n",
      "| prostate(yes) |          0.0423 |\n",
      "+---------------+-----------------+\n",
      "| prostate(no)  |          0.9577 |\n",
      "+---------------+-----------------+\n",
      "P(prostate) = 10.5%\n",
      "P(prostate|in survey) = 6.2%\n",
      "P(prostate|in survey, cycle) = 4.2%\n"
     ]
    },
    {
     "name": "stderr",
     "output_type": "stream",
     "text": [
      "\n"
     ]
    }
   ],
   "source": [
    "make_queries(DAG_damaging)"
   ]
  },
  {
   "cell_type": "markdown",
   "metadata": {},
   "source": [
    "In this world, cycling _does_ increase the risk of prostate cancer. Nevertheless, _if_ people with prostate cancer are less likely to complete the survey than those without, then you can still observe this apparent protective effect.\n",
    "\n",
    "This is concerning.\n",
    "\n",
    "It means that observing lower incidence of prostate cancer in cyclists than in the general population does _not_ tell you anything about the causal relation between cycling and prostate cancer _unless_ you know"
   ]
  },
  {
   "cell_type": "code",
   "execution_count": null,
   "metadata": {},
   "outputs": [],
   "source": []
  },
  {
   "cell_type": "code",
   "execution_count": null,
   "metadata": {},
   "outputs": [],
   "source": []
  },
  {
   "cell_type": "code",
   "execution_count": null,
   "metadata": {},
   "outputs": [],
   "source": []
  },
  {
   "cell_type": "code",
   "execution_count": null,
   "metadata": {},
   "outputs": [],
   "source": []
  }
 ],
 "metadata": {
  "kernelspec": {
   "display_name": "Python 3",
   "language": "python",
   "name": "python3"
  },
  "language_info": {
   "codemirror_mode": {
    "name": "ipython",
    "version": 3
   },
   "file_extension": ".py",
   "mimetype": "text/x-python",
   "name": "python",
   "nbconvert_exporter": "python",
   "pygments_lexer": "ipython3",
   "version": "3.7.6"
  }
 },
 "nbformat": 4,
 "nbformat_minor": 4
}
